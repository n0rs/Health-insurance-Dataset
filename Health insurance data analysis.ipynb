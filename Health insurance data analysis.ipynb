{
 "cells": [
  {
   "cell_type": "markdown",
   "id": "7995739a-fbd6-4819-b6b7-460d549b8396",
   "metadata": {},
   "source": [
    "# Data Analysis of a Health insurance data set.\n",
    "## The goal of this analysis is to find the effect of different attributes on the insurance claim. \n",
    "## To do that visualization, statistical tests and model training are appliead"
   ]
  },
  {
   "cell_type": "code",
   "execution_count": 1,
   "id": "5c940b48-6ad7-4cf7-96fb-93aaa16ae63a",
   "metadata": {},
   "outputs": [],
   "source": [
    "import pandas as pd\n",
    "import numpy as np\n",
    "import matplotlib.pyplot as plt\n",
    "import seaborn as sns\n",
    "from scipy.stats import levene, ttest_ind, kstest\n",
    "import statsmodels.api as sm\n",
    "from statsmodels.formula.api import ols\n",
    "from statsmodels.stats.multicomp import MultiComparison\n",
    "from sklearn import preprocessing\n",
    "from sklearn.feature_selection import SelectKBest, f_regression\n",
    "from sklearn.linear_model import LinearRegression\n",
    "from sklearn.model_selection import train_test_split, GridSearchCV\n",
    "from sklearn.preprocessing import StandardScaler, OneHotEncoder, PolynomialFeatures\n",
    "from sklearn.metrics import mean_absolute_error\n",
    "from sklearn.pipeline import Pipeline\n",
    "from sklearn.decomposition import PCA\n",
    "from sklearn.compose import ColumnTransformer\n",
    "from sklearn.ensemble import RandomForestRegressor, GradientBoostingRegressor\n"
   ]
  },
  {
   "cell_type": "markdown",
   "id": "32659594-99a4-49b9-8ec3-44c84e9e41cd",
   "metadata": {},
   "source": [
    "### Import data set"
   ]
  },
  {
   "cell_type": "code",
   "execution_count": 2,
   "id": "96a0faa2-9e9f-40ce-893e-04863ad6e673",
   "metadata": {},
   "outputs": [],
   "source": [
    "df = pd.read_csv(\"C:/Users/n0rs9/PycharmProjects/pythonProject/Health Insurance Data Analysis/1651277648862_healthinsur\\\n",
    "ance.csv\", decimal=\".\", sep=\",\")"
   ]
  },
  {
   "cell_type": "code",
   "execution_count": 3,
   "id": "a4f219fb-7232-43e7-8c90-c7cff4e22d98",
   "metadata": {},
   "outputs": [],
   "source": [
    "orig_df = df.copy()"
   ]
  },
  {
   "cell_type": "markdown",
   "id": "824f377e-9f9b-4216-a1ad-bacf57b50c03",
   "metadata": {},
   "source": [
    "## changing categorical values to numbers (Needed for modelling of the data later)"
   ]
  },
  {
   "cell_type": "code",
   "execution_count": 4,
   "id": "18edc188-fd3d-4404-bf7d-39a356a59bbc",
   "metadata": {
    "tags": []
   },
   "outputs": [
    {
     "data": {
      "text/html": [
       "<div>\n",
       "<style scoped>\n",
       "    .dataframe tbody tr th:only-of-type {\n",
       "        vertical-align: middle;\n",
       "    }\n",
       "\n",
       "    .dataframe tbody tr th {\n",
       "        vertical-align: top;\n",
       "    }\n",
       "\n",
       "    .dataframe thead th {\n",
       "        text-align: right;\n",
       "    }\n",
       "</style>\n",
       "<table border=\"1\" class=\"dataframe\">\n",
       "  <thead>\n",
       "    <tr style=\"text-align: right;\">\n",
       "      <th></th>\n",
       "      <th>age</th>\n",
       "      <th>sex</th>\n",
       "      <th>weight</th>\n",
       "      <th>bmi</th>\n",
       "      <th>hereditary_diseases</th>\n",
       "      <th>no_of_dependents</th>\n",
       "      <th>smoker</th>\n",
       "      <th>city</th>\n",
       "      <th>bloodpressure</th>\n",
       "      <th>diabetes</th>\n",
       "      <th>regular_ex</th>\n",
       "      <th>job_title</th>\n",
       "      <th>claim</th>\n",
       "    </tr>\n",
       "  </thead>\n",
       "  <tbody>\n",
       "    <tr>\n",
       "      <th>0</th>\n",
       "      <td>60.0</td>\n",
       "      <td>male</td>\n",
       "      <td>64</td>\n",
       "      <td>24.3</td>\n",
       "      <td>NoDisease</td>\n",
       "      <td>1</td>\n",
       "      <td>0</td>\n",
       "      <td>NewYork</td>\n",
       "      <td>72</td>\n",
       "      <td>0</td>\n",
       "      <td>0</td>\n",
       "      <td>Actor</td>\n",
       "      <td>13112.6</td>\n",
       "    </tr>\n",
       "    <tr>\n",
       "      <th>1</th>\n",
       "      <td>49.0</td>\n",
       "      <td>female</td>\n",
       "      <td>75</td>\n",
       "      <td>22.6</td>\n",
       "      <td>NoDisease</td>\n",
       "      <td>1</td>\n",
       "      <td>0</td>\n",
       "      <td>Boston</td>\n",
       "      <td>78</td>\n",
       "      <td>1</td>\n",
       "      <td>1</td>\n",
       "      <td>Engineer</td>\n",
       "      <td>9567.0</td>\n",
       "    </tr>\n",
       "    <tr>\n",
       "      <th>2</th>\n",
       "      <td>32.0</td>\n",
       "      <td>female</td>\n",
       "      <td>64</td>\n",
       "      <td>17.8</td>\n",
       "      <td>Epilepsy</td>\n",
       "      <td>2</td>\n",
       "      <td>1</td>\n",
       "      <td>Phildelphia</td>\n",
       "      <td>88</td>\n",
       "      <td>1</td>\n",
       "      <td>1</td>\n",
       "      <td>Academician</td>\n",
       "      <td>32734.2</td>\n",
       "    </tr>\n",
       "    <tr>\n",
       "      <th>3</th>\n",
       "      <td>61.0</td>\n",
       "      <td>female</td>\n",
       "      <td>53</td>\n",
       "      <td>36.4</td>\n",
       "      <td>NoDisease</td>\n",
       "      <td>1</td>\n",
       "      <td>1</td>\n",
       "      <td>Pittsburg</td>\n",
       "      <td>72</td>\n",
       "      <td>1</td>\n",
       "      <td>0</td>\n",
       "      <td>Chef</td>\n",
       "      <td>48517.6</td>\n",
       "    </tr>\n",
       "    <tr>\n",
       "      <th>4</th>\n",
       "      <td>19.0</td>\n",
       "      <td>female</td>\n",
       "      <td>50</td>\n",
       "      <td>20.6</td>\n",
       "      <td>NoDisease</td>\n",
       "      <td>0</td>\n",
       "      <td>0</td>\n",
       "      <td>Buffalo</td>\n",
       "      <td>82</td>\n",
       "      <td>1</td>\n",
       "      <td>0</td>\n",
       "      <td>HomeMakers</td>\n",
       "      <td>1731.7</td>\n",
       "    </tr>\n",
       "  </tbody>\n",
       "</table>\n",
       "</div>"
      ],
      "text/plain": [
       "    age     sex  weight   bmi hereditary_diseases  no_of_dependents  smoker  \\\n",
       "0  60.0    male      64  24.3           NoDisease                 1       0   \n",
       "1  49.0  female      75  22.6           NoDisease                 1       0   \n",
       "2  32.0  female      64  17.8            Epilepsy                 2       1   \n",
       "3  61.0  female      53  36.4           NoDisease                 1       1   \n",
       "4  19.0  female      50  20.6           NoDisease                 0       0   \n",
       "\n",
       "          city  bloodpressure  diabetes  regular_ex    job_title    claim  \n",
       "0      NewYork             72         0           0        Actor  13112.6  \n",
       "1       Boston             78         1           1     Engineer   9567.0  \n",
       "2  Phildelphia             88         1           1  Academician  32734.2  \n",
       "3    Pittsburg             72         1           0         Chef  48517.6  \n",
       "4      Buffalo             82         1           0   HomeMakers   1731.7  "
      ]
     },
     "execution_count": 4,
     "metadata": {},
     "output_type": "execute_result"
    }
   ],
   "source": [
    "df.head()"
   ]
  },
  {
   "cell_type": "code",
   "execution_count": 5,
   "id": "e6bec732-d932-4821-9b7b-3bded984da43",
   "metadata": {},
   "outputs": [
    {
     "data": {
      "text/html": [
       "<div>\n",
       "<style scoped>\n",
       "    .dataframe tbody tr th:only-of-type {\n",
       "        vertical-align: middle;\n",
       "    }\n",
       "\n",
       "    .dataframe tbody tr th {\n",
       "        vertical-align: top;\n",
       "    }\n",
       "\n",
       "    .dataframe thead th {\n",
       "        text-align: right;\n",
       "    }\n",
       "</style>\n",
       "<table border=\"1\" class=\"dataframe\">\n",
       "  <thead>\n",
       "    <tr style=\"text-align: right;\">\n",
       "      <th></th>\n",
       "      <th>age</th>\n",
       "      <th>weight</th>\n",
       "      <th>bmi</th>\n",
       "      <th>no_of_dependents</th>\n",
       "      <th>smoker</th>\n",
       "      <th>bloodpressure</th>\n",
       "      <th>diabetes</th>\n",
       "      <th>regular_ex</th>\n",
       "      <th>claim</th>\n",
       "    </tr>\n",
       "  </thead>\n",
       "  <tbody>\n",
       "    <tr>\n",
       "      <th>count</th>\n",
       "      <td>14604.000000</td>\n",
       "      <td>15000.000000</td>\n",
       "      <td>14044.000000</td>\n",
       "      <td>15000.000000</td>\n",
       "      <td>15000.000000</td>\n",
       "      <td>15000.000000</td>\n",
       "      <td>15000.000000</td>\n",
       "      <td>15000.000000</td>\n",
       "      <td>15000.000000</td>\n",
       "    </tr>\n",
       "    <tr>\n",
       "      <th>mean</th>\n",
       "      <td>39.547521</td>\n",
       "      <td>64.909600</td>\n",
       "      <td>30.266413</td>\n",
       "      <td>1.129733</td>\n",
       "      <td>0.198133</td>\n",
       "      <td>68.650133</td>\n",
       "      <td>0.777000</td>\n",
       "      <td>0.224133</td>\n",
       "      <td>13401.437620</td>\n",
       "    </tr>\n",
       "    <tr>\n",
       "      <th>std</th>\n",
       "      <td>14.015966</td>\n",
       "      <td>13.701935</td>\n",
       "      <td>6.122950</td>\n",
       "      <td>1.228469</td>\n",
       "      <td>0.398606</td>\n",
       "      <td>19.418515</td>\n",
       "      <td>0.416272</td>\n",
       "      <td>0.417024</td>\n",
       "      <td>12148.239619</td>\n",
       "    </tr>\n",
       "    <tr>\n",
       "      <th>min</th>\n",
       "      <td>18.000000</td>\n",
       "      <td>34.000000</td>\n",
       "      <td>16.000000</td>\n",
       "      <td>0.000000</td>\n",
       "      <td>0.000000</td>\n",
       "      <td>0.000000</td>\n",
       "      <td>0.000000</td>\n",
       "      <td>0.000000</td>\n",
       "      <td>1121.900000</td>\n",
       "    </tr>\n",
       "    <tr>\n",
       "      <th>25%</th>\n",
       "      <td>27.000000</td>\n",
       "      <td>54.000000</td>\n",
       "      <td>25.700000</td>\n",
       "      <td>0.000000</td>\n",
       "      <td>0.000000</td>\n",
       "      <td>64.000000</td>\n",
       "      <td>1.000000</td>\n",
       "      <td>0.000000</td>\n",
       "      <td>4846.900000</td>\n",
       "    </tr>\n",
       "    <tr>\n",
       "      <th>50%</th>\n",
       "      <td>40.000000</td>\n",
       "      <td>63.000000</td>\n",
       "      <td>29.400000</td>\n",
       "      <td>1.000000</td>\n",
       "      <td>0.000000</td>\n",
       "      <td>71.000000</td>\n",
       "      <td>1.000000</td>\n",
       "      <td>0.000000</td>\n",
       "      <td>9545.650000</td>\n",
       "    </tr>\n",
       "    <tr>\n",
       "      <th>75%</th>\n",
       "      <td>52.000000</td>\n",
       "      <td>76.000000</td>\n",
       "      <td>34.400000</td>\n",
       "      <td>2.000000</td>\n",
       "      <td>0.000000</td>\n",
       "      <td>80.000000</td>\n",
       "      <td>1.000000</td>\n",
       "      <td>0.000000</td>\n",
       "      <td>16519.125000</td>\n",
       "    </tr>\n",
       "    <tr>\n",
       "      <th>max</th>\n",
       "      <td>64.000000</td>\n",
       "      <td>95.000000</td>\n",
       "      <td>53.100000</td>\n",
       "      <td>5.000000</td>\n",
       "      <td>1.000000</td>\n",
       "      <td>122.000000</td>\n",
       "      <td>1.000000</td>\n",
       "      <td>1.000000</td>\n",
       "      <td>63770.400000</td>\n",
       "    </tr>\n",
       "  </tbody>\n",
       "</table>\n",
       "</div>"
      ],
      "text/plain": [
       "                age        weight           bmi  no_of_dependents  \\\n",
       "count  14604.000000  15000.000000  14044.000000      15000.000000   \n",
       "mean      39.547521     64.909600     30.266413          1.129733   \n",
       "std       14.015966     13.701935      6.122950          1.228469   \n",
       "min       18.000000     34.000000     16.000000          0.000000   \n",
       "25%       27.000000     54.000000     25.700000          0.000000   \n",
       "50%       40.000000     63.000000     29.400000          1.000000   \n",
       "75%       52.000000     76.000000     34.400000          2.000000   \n",
       "max       64.000000     95.000000     53.100000          5.000000   \n",
       "\n",
       "             smoker  bloodpressure      diabetes    regular_ex         claim  \n",
       "count  15000.000000   15000.000000  15000.000000  15000.000000  15000.000000  \n",
       "mean       0.198133      68.650133      0.777000      0.224133  13401.437620  \n",
       "std        0.398606      19.418515      0.416272      0.417024  12148.239619  \n",
       "min        0.000000       0.000000      0.000000      0.000000   1121.900000  \n",
       "25%        0.000000      64.000000      1.000000      0.000000   4846.900000  \n",
       "50%        0.000000      71.000000      1.000000      0.000000   9545.650000  \n",
       "75%        0.000000      80.000000      1.000000      0.000000  16519.125000  \n",
       "max        1.000000     122.000000      1.000000      1.000000  63770.400000  "
      ]
     },
     "execution_count": 5,
     "metadata": {},
     "output_type": "execute_result"
    }
   ],
   "source": [
    "df.describe()"
   ]
  },
  {
   "cell_type": "code",
   "execution_count": 6,
   "id": "4503f3ae-8b1f-472a-98ec-3378f564d63c",
   "metadata": {},
   "outputs": [
    {
     "name": "stdout",
     "output_type": "stream",
     "text": [
      "<class 'pandas.core.frame.DataFrame'>\n",
      "RangeIndex: 15000 entries, 0 to 14999\n",
      "Data columns (total 13 columns):\n",
      " #   Column               Non-Null Count  Dtype  \n",
      "---  ------               --------------  -----  \n",
      " 0   age                  14604 non-null  float64\n",
      " 1   sex                  15000 non-null  object \n",
      " 2   weight               15000 non-null  int64  \n",
      " 3   bmi                  14044 non-null  float64\n",
      " 4   hereditary_diseases  15000 non-null  object \n",
      " 5   no_of_dependents     15000 non-null  int64  \n",
      " 6   smoker               15000 non-null  int64  \n",
      " 7   city                 15000 non-null  object \n",
      " 8   bloodpressure        15000 non-null  int64  \n",
      " 9   diabetes             15000 non-null  int64  \n",
      " 10  regular_ex           15000 non-null  int64  \n",
      " 11  job_title            15000 non-null  object \n",
      " 12  claim                15000 non-null  float64\n",
      "dtypes: float64(3), int64(6), object(4)\n",
      "memory usage: 1.5+ MB\n"
     ]
    }
   ],
   "source": [
    "df.info()"
   ]
  },
  {
   "cell_type": "code",
   "execution_count": 7,
   "id": "0fabb9bf-083c-47fa-a2df-02920b30f61a",
   "metadata": {},
   "outputs": [
    {
     "data": {
      "text/plain": [
       "756"
      ]
     },
     "execution_count": 7,
     "metadata": {},
     "output_type": "execute_result"
    }
   ],
   "source": [
    "df[\"bloodpressure\"].value_counts().get(0, 0)"
   ]
  },
  {
   "cell_type": "markdown",
   "id": "1a92e277-89f9-4b99-bd93-22750919ddfc",
   "metadata": {
    "tags": []
   },
   "source": [
    "### removing all rows with 0 in bloodpressure as it is no valid value\n",
    "### also removing all rows with NA from age and bmi"
   ]
  },
  {
   "cell_type": "code",
   "execution_count": 8,
   "id": "81f18b51-cecb-4bb2-9a86-fe77bb4875cd",
   "metadata": {},
   "outputs": [],
   "source": [
    "df.dropna(axis=0, inplace=True)\n",
    "df.drop(df.loc[df[\"bloodpressure\"] == 0].index, inplace=True)"
   ]
  },
  {
   "cell_type": "code",
   "execution_count": 9,
   "id": "42470625-9ab7-4c06-8bce-5b72f8a968c1",
   "metadata": {},
   "outputs": [
    {
     "name": "stdout",
     "output_type": "stream",
     "text": [
      "<class 'pandas.core.frame.DataFrame'>\n",
      "Int64Index: 12958 entries, 0 to 14999\n",
      "Data columns (total 13 columns):\n",
      " #   Column               Non-Null Count  Dtype  \n",
      "---  ------               --------------  -----  \n",
      " 0   age                  12958 non-null  float64\n",
      " 1   sex                  12958 non-null  object \n",
      " 2   weight               12958 non-null  int64  \n",
      " 3   bmi                  12958 non-null  float64\n",
      " 4   hereditary_diseases  12958 non-null  object \n",
      " 5   no_of_dependents     12958 non-null  int64  \n",
      " 6   smoker               12958 non-null  int64  \n",
      " 7   city                 12958 non-null  object \n",
      " 8   bloodpressure        12958 non-null  int64  \n",
      " 9   diabetes             12958 non-null  int64  \n",
      " 10  regular_ex           12958 non-null  int64  \n",
      " 11  job_title            12958 non-null  object \n",
      " 12  claim                12958 non-null  float64\n",
      "dtypes: float64(3), int64(6), object(4)\n",
      "memory usage: 1.4+ MB\n"
     ]
    }
   ],
   "source": [
    "df.info()"
   ]
  },
  {
   "cell_type": "code",
   "execution_count": 10,
   "id": "24242f45-8af2-4473-bc65-a8d18a039d1e",
   "metadata": {},
   "outputs": [
    {
     "data": {
      "text/html": [
       "<div>\n",
       "<style scoped>\n",
       "    .dataframe tbody tr th:only-of-type {\n",
       "        vertical-align: middle;\n",
       "    }\n",
       "\n",
       "    .dataframe tbody tr th {\n",
       "        vertical-align: top;\n",
       "    }\n",
       "\n",
       "    .dataframe thead th {\n",
       "        text-align: right;\n",
       "    }\n",
       "</style>\n",
       "<table border=\"1\" class=\"dataframe\">\n",
       "  <thead>\n",
       "    <tr style=\"text-align: right;\">\n",
       "      <th></th>\n",
       "      <th>age</th>\n",
       "      <th>weight</th>\n",
       "      <th>bmi</th>\n",
       "      <th>no_of_dependents</th>\n",
       "      <th>smoker</th>\n",
       "      <th>bloodpressure</th>\n",
       "      <th>diabetes</th>\n",
       "      <th>regular_ex</th>\n",
       "      <th>claim</th>\n",
       "    </tr>\n",
       "  </thead>\n",
       "  <tbody>\n",
       "    <tr>\n",
       "      <th>count</th>\n",
       "      <td>12958.000000</td>\n",
       "      <td>12958.000000</td>\n",
       "      <td>12958.000000</td>\n",
       "      <td>12958.000000</td>\n",
       "      <td>12958.000000</td>\n",
       "      <td>12958.000000</td>\n",
       "      <td>12958.000000</td>\n",
       "      <td>12958.000000</td>\n",
       "      <td>12958.000000</td>\n",
       "    </tr>\n",
       "    <tr>\n",
       "      <th>mean</th>\n",
       "      <td>39.524232</td>\n",
       "      <td>64.570381</td>\n",
       "      <td>30.262116</td>\n",
       "      <td>1.110974</td>\n",
       "      <td>0.199954</td>\n",
       "      <td>72.283146</td>\n",
       "      <td>0.782065</td>\n",
       "      <td>0.220482</td>\n",
       "      <td>13441.408404</td>\n",
       "    </tr>\n",
       "    <tr>\n",
       "      <th>std</th>\n",
       "      <td>14.089297</td>\n",
       "      <td>13.564066</td>\n",
       "      <td>6.141282</td>\n",
       "      <td>1.214650</td>\n",
       "      <td>0.399981</td>\n",
       "      <td>11.576544</td>\n",
       "      <td>0.412859</td>\n",
       "      <td>0.414587</td>\n",
       "      <td>12159.024990</td>\n",
       "    </tr>\n",
       "    <tr>\n",
       "      <th>min</th>\n",
       "      <td>18.000000</td>\n",
       "      <td>34.000000</td>\n",
       "      <td>16.800000</td>\n",
       "      <td>0.000000</td>\n",
       "      <td>0.000000</td>\n",
       "      <td>40.000000</td>\n",
       "      <td>0.000000</td>\n",
       "      <td>0.000000</td>\n",
       "      <td>1135.900000</td>\n",
       "    </tr>\n",
       "    <tr>\n",
       "      <th>25%</th>\n",
       "      <td>27.000000</td>\n",
       "      <td>54.000000</td>\n",
       "      <td>25.700000</td>\n",
       "      <td>0.000000</td>\n",
       "      <td>0.000000</td>\n",
       "      <td>64.000000</td>\n",
       "      <td>1.000000</td>\n",
       "      <td>0.000000</td>\n",
       "      <td>4837.600000</td>\n",
       "    </tr>\n",
       "    <tr>\n",
       "      <th>50%</th>\n",
       "      <td>40.000000</td>\n",
       "      <td>63.000000</td>\n",
       "      <td>29.300000</td>\n",
       "      <td>1.000000</td>\n",
       "      <td>0.000000</td>\n",
       "      <td>72.000000</td>\n",
       "      <td>1.000000</td>\n",
       "      <td>0.000000</td>\n",
       "      <td>9704.700000</td>\n",
       "    </tr>\n",
       "    <tr>\n",
       "      <th>75%</th>\n",
       "      <td>52.000000</td>\n",
       "      <td>75.000000</td>\n",
       "      <td>34.400000</td>\n",
       "      <td>2.000000</td>\n",
       "      <td>0.000000</td>\n",
       "      <td>80.000000</td>\n",
       "      <td>1.000000</td>\n",
       "      <td>0.000000</td>\n",
       "      <td>16531.375000</td>\n",
       "    </tr>\n",
       "    <tr>\n",
       "      <th>max</th>\n",
       "      <td>64.000000</td>\n",
       "      <td>95.000000</td>\n",
       "      <td>53.100000</td>\n",
       "      <td>5.000000</td>\n",
       "      <td>1.000000</td>\n",
       "      <td>122.000000</td>\n",
       "      <td>1.000000</td>\n",
       "      <td>1.000000</td>\n",
       "      <td>63770.400000</td>\n",
       "    </tr>\n",
       "  </tbody>\n",
       "</table>\n",
       "</div>"
      ],
      "text/plain": [
       "                age        weight           bmi  no_of_dependents  \\\n",
       "count  12958.000000  12958.000000  12958.000000      12958.000000   \n",
       "mean      39.524232     64.570381     30.262116          1.110974   \n",
       "std       14.089297     13.564066      6.141282          1.214650   \n",
       "min       18.000000     34.000000     16.800000          0.000000   \n",
       "25%       27.000000     54.000000     25.700000          0.000000   \n",
       "50%       40.000000     63.000000     29.300000          1.000000   \n",
       "75%       52.000000     75.000000     34.400000          2.000000   \n",
       "max       64.000000     95.000000     53.100000          5.000000   \n",
       "\n",
       "             smoker  bloodpressure      diabetes    regular_ex         claim  \n",
       "count  12958.000000   12958.000000  12958.000000  12958.000000  12958.000000  \n",
       "mean       0.199954      72.283146      0.782065      0.220482  13441.408404  \n",
       "std        0.399981      11.576544      0.412859      0.414587  12159.024990  \n",
       "min        0.000000      40.000000      0.000000      0.000000   1135.900000  \n",
       "25%        0.000000      64.000000      1.000000      0.000000   4837.600000  \n",
       "50%        0.000000      72.000000      1.000000      0.000000   9704.700000  \n",
       "75%        0.000000      80.000000      1.000000      0.000000  16531.375000  \n",
       "max        1.000000     122.000000      1.000000      1.000000  63770.400000  "
      ]
     },
     "execution_count": 10,
     "metadata": {},
     "output_type": "execute_result"
    }
   ],
   "source": [
    "df.describe()"
   ]
  },
  {
   "cell_type": "markdown",
   "id": "fa4383f1-29ab-405a-a224-1cd03974a62f",
   "metadata": {},
   "source": [
    "## First visualizations"
   ]
  },
  {
   "cell_type": "markdown",
   "id": "8728f79f-10d0-4b61-9819-9908a80940a5",
   "metadata": {},
   "source": [
    "### correlation"
   ]
  },
  {
   "cell_type": "code",
   "execution_count": 11,
   "id": "589092b2-be28-46d0-a043-a13eea45052a",
   "metadata": {},
   "outputs": [
    {
     "data": {
      "text/plain": [
       "Text(0.5, 1.0, 'Correlation Heatmap')"
      ]
     },
     "execution_count": 11,
     "metadata": {},
     "output_type": "execute_result"
    },
    {
     "data": {
      "image/png": "[encoded data removed]",
      "text/plain": [
       "<Figure size 720x432 with 2 Axes>"
      ]
     },
     "metadata": {
      "needs_background": "light"
     },
     "output_type": "display_data"
    }
   ],
   "source": [
    "plt.figure(figsize=(10, 6))\n",
    "sns.heatmap(df.corr(), annot=True, cmap=\"coolwarm\")\n",
    "plt.title(\"Correlation Heatmap\")"
   ]
  },
  {
   "cell_type": "markdown",
   "id": "4719f55a-8494-4a48-8314-e994511e2488",
   "metadata": {
    "tags": []
   },
   "source": [
    "## The effect of smoking on the claim\n",
    "### exploring the smoking attribute\n",
    "#### 0 = not smoking, 1 = smoking"
   ]
  },
  {
   "cell_type": "code",
   "execution_count": 12,
   "id": "af932a30-4481-46a7-b4fb-258fabf905b0",
   "metadata": {},
   "outputs": [
    {
     "data": {
      "text/plain": [
       "0.7710262483261955"
      ]
     },
     "execution_count": 12,
     "metadata": {},
     "output_type": "execute_result"
    }
   ],
   "source": [
    "df[\"smoker\"].corr(df[\"claim\"])"
   ]
  },
  {
   "cell_type": "code",
   "execution_count": 13,
   "id": "bea682b7-2388-4b86-8b42-7c79c0366b8f",
   "metadata": {},
   "outputs": [
    {
     "data": {
      "text/plain": [
       "1.5005354982398322"
      ]
     },
     "execution_count": 13,
     "metadata": {},
     "output_type": "execute_result"
    }
   ],
   "source": [
    "df[\"smoker\"].skew()"
   ]
  },
  {
   "cell_type": "code",
   "execution_count": 14,
   "id": "b57b2514-522a-471d-89fb-698d683a69e8",
   "metadata": {},
   "outputs": [
    {
     "data": {
      "text/plain": [
       "0    10367\n",
       "1     2591\n",
       "Name: smoker, dtype: int64"
      ]
     },
     "execution_count": 14,
     "metadata": {},
     "output_type": "execute_result"
    }
   ],
   "source": [
    "df[\"smoker\"].value_counts()"
   ]
  },
  {
   "cell_type": "markdown",
   "id": "5ab9eef5-8d0d-4c4c-b006-8fc29e662f97",
   "metadata": {},
   "source": [
    "### Average claim of smoker vs non smoker"
   ]
  },
  {
   "cell_type": "markdown",
   "id": "e05dbb47-f175-44e4-9f5e-7bd419489ca4",
   "metadata": {},
   "source": [
    "### Pie plot of smoker %"
   ]
  },
  {
   "cell_type": "code",
   "execution_count": 15,
   "id": "89833969-4060-42fd-9b86-08abe7e0215c",
   "metadata": {},
   "outputs": [
    {
     "data": {
      "text/plain": [
       "Text(0.5, 1.0, 'Smoker Percentage')"
      ]
     },
     "execution_count": 15,
     "metadata": {},
     "output_type": "execute_result"
    },
    {
     "data": {
      "image/png": "[encoded data removed]",
      "text/plain": [
       "<Figure size 720x432 with 1 Axes>"
      ]
     },
     "metadata": {},
     "output_type": "display_data"
    }
   ],
   "source": [
    "plt.figure(figsize=(10, 6))\n",
    "plt.pie(df.smoker.value_counts().reindex([1, 0]), labels=df.smoker.value_counts().reindex([1, 0]).index,\n",
    "        autopct='%1.1f%%', explode=[0.1, 0], startangle=180)\n",
    "plt.title('Smoker Percentage')"
   ]
  },
  {
   "cell_type": "markdown",
   "id": "2ed4e0ef-d6d7-4c44-987e-a92afd5418b2",
   "metadata": {},
   "source": [
    "### boxplot of claim"
   ]
  },
  {
   "cell_type": "code",
   "execution_count": 16,
   "id": "27c0273d-12f2-4f45-813b-5c8ed3237ddc",
   "metadata": {},
   "outputs": [
    {
     "name": "stdout",
     "output_type": "stream",
     "text": [
      "Mean Smoker: 32193.25\n",
      "Mean Nonsmoker: 8754.80\n",
      "Median Smoker: 34779.60\n",
      "Median Nonsmoker: 7624.60\n"
     ]
    },
    {
     "data": {
      "image/png": "[encoded data removed]",
      "text/plain": [
       "<Figure size 720x432 with 1 Axes>"
      ]
     },
     "metadata": {
      "needs_background": "light"
     },
     "output_type": "display_data"
    }
   ],
   "source": [
    "plt.figure(figsize=(10,6))\n",
    "sns.boxplot(x='smoker', y='claim', data=df)\n",
    "plt.title('Claim Amount by Smoker')\n",
    "plt.xlabel('Smoker')\n",
    "plt.ylabel('Claim')\n",
    "print(f\"Mean Smoker: {df[df['smoker'] == 1]['claim'].mean():.2f}\")\n",
    "print(f\"Mean Nonsmoker: {df[df['smoker'] == 0]['claim'].mean():.2f}\")\n",
    "print(f\"Median Smoker: {df[df['smoker'] == 1]['claim'].median():.2f}\")\n",
    "print(f\"Median Nonsmoker: {df[df['smoker'] == 0]['claim'].median():.2f}\")"
   ]
  },
  {
   "cell_type": "markdown",
   "id": "9dd96971-91dd-494f-82d1-71242b8cfd27",
   "metadata": {
    "tags": []
   },
   "source": [
    "## statistical testing\n"
   ]
  },
  {
   "cell_type": "code",
   "execution_count": 17,
   "id": "6055b452-545d-4230-b0b3-a01183697f30",
   "metadata": {},
   "outputs": [],
   "source": [
    "alpha = 0.05"
   ]
  },
  {
   "cell_type": "markdown",
   "id": "35a723bc-7c38-4999-93a8-bea46c2468f2",
   "metadata": {},
   "source": [
    "### normal distribution using Kolmogorov-Smirnov test"
   ]
  },
  {
   "cell_type": "code",
   "execution_count": 18,
   "id": "6344d35a-eaec-452c-906a-965c6ddc1e86",
   "metadata": {},
   "outputs": [
    {
     "name": "stdout",
     "output_type": "stream",
     "text": [
      "KstestResult(statistic=1.0, pvalue=0.0)\n",
      "KstestResult(statistic=1.0, pvalue=0.0)\n"
     ]
    }
   ],
   "source": [
    "print(kstest(df[df[\"smoker\"] == 1][\"claim\"], \"norm\"))\n",
    "print(kstest(df[df[\"smoker\"] == 0][\"claim\"], \"norm\"))"
   ]
  },
  {
   "cell_type": "markdown",
   "id": "880680fa-75ce-4ab9-b0d8-e2c539da145f",
   "metadata": {},
   "source": [
    "### test on variance using Levene"
   ]
  },
  {
   "cell_type": "code",
   "execution_count": 19,
   "id": "ab16b7cc-bf78-4c2d-b624-bdff6da50c59",
   "metadata": {},
   "outputs": [
    {
     "name": "stdout",
     "output_type": "stream",
     "text": [
      "Statistics=3559.518, p=0.000\n"
     ]
    }
   ],
   "source": [
    "stat, p = levene(df[df[\"smoker\"] == 1][\"claim\"], df[df[\"smoker\"] == 0][\"claim\"], center=\"mean\")\n",
    "print(\"Statistics=%.3f, p=%.3f\" % (stat, p))"
   ]
  },
  {
   "cell_type": "markdown",
   "id": "2951bec1-9395-44f5-ba99-06a6ca9bf524",
   "metadata": {},
   "source": [
    "### Although not normally distributed or homogenity of variances was achieved Welch´s t-test was used because of large sample size"
   ]
  },
  {
   "cell_type": "code",
   "execution_count": 20,
   "id": "51a9eaec-82ec-48de-9808-f0db55a47f00",
   "metadata": {},
   "outputs": [
    {
     "name": "stdout",
     "output_type": "stream",
     "text": [
      "Statistics=96.547, p=0.000\n",
      "There is a significant difference in claims between people who smoke and dont smoke.\n"
     ]
    }
   ],
   "source": [
    "statistics, pwt = ttest_ind(df[df[\"smoker\"] == 1][\"claim\"], df[df[\"smoker\"] == 0][\"claim\"], equal_var=False)\n",
    "\n",
    "print(\"Statistics=%.3f, p=%.3f\" % (statistics, pwt))\n",
    "\n",
    "if pwt < alpha:\n",
    "    print(\"There is a significant difference in claims between people who smoke and dont smoke.\")\n",
    "else:\n",
    "    print(\"There is no difference in claims between people who smoke and dont smoke.\")"
   ]
  },
  {
   "cell_type": "markdown",
   "id": "f9a19e00-e87d-4995-8af0-6faf60891bf7",
   "metadata": {},
   "source": [
    "### direction of the difference"
   ]
  },
  {
   "cell_type": "code",
   "execution_count": 21,
   "id": "aca4a1c0-de02-4b52-bc96-aad5a3d16e9a",
   "metadata": {},
   "outputs": [
    {
     "name": "stdout",
     "output_type": "stream",
     "text": [
      "The mean insurance claim of people who smoke is significantly higher than of people who dont smoke\n"
     ]
    }
   ],
   "source": [
    "if statistics > 0:\n",
    "    print(\"The mean insurance claim of people who smoke is significantly higher than of people who dont smoke\")\n",
    "elif statistics < 0:\n",
    "    print(\"The mean insurance claim of people who dont smoke is significantly higher than of people who smoke\")\n",
    "else:\n",
    "    print(\"There is no significant difference in the mean insurance claim amounts.\")"
   ]
  },
  {
   "cell_type": "markdown",
   "id": "debac6f6-9ac3-4413-bfd4-1742d76f91a0",
   "metadata": {},
   "source": [
    "## Male vs Female"
   ]
  },
  {
   "cell_type": "code",
   "execution_count": 22,
   "id": "24543b6c-b9d0-4c77-88c0-d2a865247689",
   "metadata": {},
   "outputs": [
    {
     "data": {
      "text/plain": [
       "female    6707\n",
       "male      6251\n",
       "Name: sex, dtype: int64"
      ]
     },
     "execution_count": 22,
     "metadata": {},
     "output_type": "execute_result"
    }
   ],
   "source": [
    "df[\"sex\"].value_counts()"
   ]
  },
  {
   "cell_type": "code",
   "execution_count": 23,
   "id": "fc6397c3-73f3-4f7f-96f6-8716e3790dab",
   "metadata": {},
   "outputs": [],
   "source": [
    "df[\"sex\"] = df[\"sex\"].map({\"male\": 1, \"female\": 0})"
   ]
  },
  {
   "cell_type": "code",
   "execution_count": 24,
   "id": "657f40c6-8871-4bd1-8e39-65d780fd50f3",
   "metadata": {},
   "outputs": [
    {
     "data": {
      "text/plain": [
       "0.05277997159565034"
      ]
     },
     "execution_count": 24,
     "metadata": {},
     "output_type": "execute_result"
    }
   ],
   "source": [
    "df['sex'].corr(df['claim'])"
   ]
  },
  {
   "cell_type": "code",
   "execution_count": 25,
   "id": "4bc5108e-a11a-448d-b36a-02fa5947d5aa",
   "metadata": {},
   "outputs": [],
   "source": [
    "df[\"sex\"] = df[\"sex\"].map({1: \"male\", 0: \"female\"})"
   ]
  },
  {
   "cell_type": "markdown",
   "id": "03a43df1-00e7-4341-9132-29bb6dd8ab7b",
   "metadata": {},
   "source": [
    "### Boxplot"
   ]
  },
  {
   "cell_type": "code",
   "execution_count": 26,
   "id": "f9df8b9a-cfd9-4bd7-bb1a-d493ebd7784c",
   "metadata": {},
   "outputs": [
    {
     "name": "stdout",
     "output_type": "stream",
     "text": [
      "Mean Male: 14106.131163013906\n",
      "Mean Female: 12821.879260474154\n",
      "Median Male: 9730.9\n",
      "Median Female: 9634.5\n"
     ]
    },
    {
     "data": {
      "image/png": "[encoded data removed]",
      "text/plain": [
       "<Figure size 720x432 with 1 Axes>"
      ]
     },
     "metadata": {
      "needs_background": "light"
     },
     "output_type": "display_data"
    }
   ],
   "source": [
    "plt.figure(figsize=(10, 6))\n",
    "sns.boxplot(x='sex', y='claim', data=df)\n",
    "plt.title('Claim Amount by Gender')\n",
    "plt.xlabel('Gender')\n",
    "plt.ylabel('Claim')\n",
    "print(f\"Mean Male: {df[df['sex'] == 'male']['claim'].mean()}\")\n",
    "print(f\"Mean Female: {df[df['sex'] == 'female']['claim'].mean()}\")\n",
    "print(f\"Median Male: {df[df['sex'] == 'male']['claim'].median()}\")\n",
    "print(f\"Median Female: {df[df['sex'] == 'female']['claim'].median()}\")"
   ]
  },
  {
   "cell_type": "markdown",
   "id": "b5832e07-b9d3-4ccf-b65c-7349f384381b",
   "metadata": {},
   "source": [
    "### Median seems to be close although mean is quite different"
   ]
  },
  {
   "cell_type": "markdown",
   "id": "85a4ba27-8aa6-4007-9e68-b8f9e6253e2f",
   "metadata": {},
   "source": [
    "### Gender count for smoker as smoking has a very high effect on insurance claim"
   ]
  },
  {
   "cell_type": "code",
   "execution_count": 27,
   "id": "90d8ee72-dd40-4887-8fa5-310eedb889a1",
   "metadata": {},
   "outputs": [
    {
     "data": {
      "text/plain": [
       "Text(0, 0.5, 'Count')"
      ]
     },
     "execution_count": 27,
     "metadata": {},
     "output_type": "execute_result"
    },
    {
     "data": {
      "image/png": "[encoded data removed]",
      "text/plain": [
       "<Figure size 720x432 with 1 Axes>"
      ]
     },
     "metadata": {
      "needs_background": "light"
     },
     "output_type": "display_data"
    }
   ],
   "source": [
    "plt.figure(figsize=(10, 6))\n",
    "fig = sns.countplot(x='sex', data=df, hue='smoker')\n",
    "for p in fig.patches:\n",
    "    height = p.get_height()\n",
    "    fig.text(p.get_x() + p.get_width()/2., height + 3, '{:1.0f}'.format(height), ha=\"center\")\n",
    "plt.title('Gender Count by Smoker')\n",
    "plt.xlabel('Gender')\n",
    "plt.ylabel('Count')"
   ]
  },
  {
   "cell_type": "markdown",
   "id": "f595d9d2-3d8b-4ae1-bb89-bf1af8e4e1fb",
   "metadata": {},
   "source": [
    "### Proportion of smokers in males higher, which could lead to higher mean in claims"
   ]
  },
  {
   "cell_type": "code",
   "execution_count": 28,
   "id": "5779493a-4eb3-4671-8a27-4e6f5daa49e7",
   "metadata": {},
   "outputs": [
    {
     "name": "stdout",
     "output_type": "stream",
     "text": [
      "Mean of males that dont smoke: 8512.05\n",
      "Mean of females that dont smoke: 8965.25\n",
      "Mean of males that smoke: 32846.48\n",
      "Mean of females that smoke: 31379.83\n"
     ]
    }
   ],
   "source": [
    "print(f\"Mean of males that dont smoke: {df[(df['sex'] == 'male') & (df['smoker'] == 0)]['claim'].mean():.2f}\")\n",
    "print(f\"Mean of females that dont smoke: {df[(df['sex'] == 'female') & (df['smoker'] == 0)]['claim'].mean():.2f}\")\n",
    "print(f\"Mean of males that smoke: {df[(df['sex'] == 'male') & (df['smoker'] == 1)]['claim'].mean():.2f}\")\n",
    "print(f\"Mean of females that smoke: {df[(df['sex'] == 'female') & (df['smoker'] == 1)]['claim'].mean():.2f}\")"
   ]
  },
  {
   "cell_type": "markdown",
   "id": "9153f2a7-f245-4a33-9412-fc297d61f1ef",
   "metadata": {},
   "source": [
    "#### The mean claim of women that dont smoke is higher than their male counterparts.\n",
    "#### But the mean claim of men who smoke is higher than that of women, which explains the difference in claims overall."
   ]
  },
  {
   "cell_type": "markdown",
   "id": "470e02e4-8f99-4d86-b4a1-61803f92d9a0",
   "metadata": {
    "tags": []
   },
   "source": [
    "### Statistical testing"
   ]
  },
  {
   "cell_type": "code",
   "execution_count": 29,
   "id": "f3c7acb3-65da-45c9-85e3-02c960cb334f",
   "metadata": {},
   "outputs": [
    {
     "name": "stdout",
     "output_type": "stream",
     "text": [
      "KstestResult(statistic=1.0, pvalue=0.0)\n",
      "KstestResult(statistic=1.0, pvalue=0.0)\n"
     ]
    }
   ],
   "source": [
    "print(kstest(df[df[\"sex\"] == \"female\"][\"claim\"], \"norm\"))\n",
    "print(kstest(df[df[\"sex\"] == \"male\"][\"claim\"], \"norm\"))"
   ]
  },
  {
   "cell_type": "code",
   "execution_count": 30,
   "id": "ff6fc458-47a3-4b4d-b417-acd88ff3a337",
   "metadata": {},
   "outputs": [
    {
     "name": "stdout",
     "output_type": "stream",
     "text": [
      "Statistics=135.533, p=0.000\n"
     ]
    }
   ],
   "source": [
    "stat, p = levene(df[df[\"sex\"] == \"female\"][\"claim\"], df[df[\"sex\"] == \"male\"][\"claim\"], center=\"mean\")\n",
    "print(\"Statistics=%.3f, p=%.3f\" % (stat, p))"
   ]
  },
  {
   "cell_type": "code",
   "execution_count": 31,
   "id": "787ac49e-4cdf-4413-9b64-86af4c93a514",
   "metadata": {},
   "outputs": [
    {
     "name": "stdout",
     "output_type": "stream",
     "text": [
      "Statistics=-5.994, p=0.000\n",
      "There is a significant difference in claims between females and males\n",
      "The mean insurance claim amount of males is significantly higher than females.\n"
     ]
    }
   ],
   "source": [
    "statistics, pwt = ttest_ind(df[df['sex'] == 'female']['claim'], df[df['sex'] == 'male']['claim'], equal_var=False)\n",
    "\n",
    "print('Statistics=%.3f, p=%.3f' % (statistics, pwt))\n",
    "\n",
    "if pwt < alpha:\n",
    "    print('There is a significant difference in claims between females and males')\n",
    "else:\n",
    "    print('There is no difference in claims between females and males')\n",
    "\n",
    "if statistics > 0:\n",
    "    print(\"The mean insurance claim amount of females is significantly higher than females.\")\n",
    "elif statistics < 0:\n",
    "    print(\"The mean insurance claim amount of males is significantly higher than females.\")\n",
    "else:\n",
    "    print(\"There is no significant difference in the mean insurance claim amounts.\")"
   ]
  },
  {
   "cell_type": "markdown",
   "id": "60308a05-c68d-4198-af1f-d155edc2470c",
   "metadata": {},
   "source": [
    "## The Effect of Age on the claim\n",
    "### To do this Age was split into older (>=50) and younger (<50)"
   ]
  },
  {
   "cell_type": "code",
   "execution_count": 32,
   "id": "e9500d1c-b775-4f07-bc90-3d1c3684e02e",
   "metadata": {},
   "outputs": [
    {
     "data": {
      "text/plain": [
       "0.31014575074801876"
      ]
     },
     "execution_count": 32,
     "metadata": {},
     "output_type": "execute_result"
    }
   ],
   "source": [
    "df[\"age\"].corr(df[\"claim\"])"
   ]
  },
  {
   "cell_type": "code",
   "execution_count": 33,
   "id": "27749ab9-cd83-4e20-a8d1-a19a015536cf",
   "metadata": {},
   "outputs": [
    {
     "name": "stdout",
     "output_type": "stream",
     "text": [
      "Skewness: 0.020214061543238057\n",
      "Mean: 40\n",
      "Median: 40.0\n",
      "Minimum Age: 18.0\n",
      "Maximum Age: 64.0\n"
     ]
    },
    {
     "data": {
      "image/png": "[encoded data removed]",
      "text/plain": [
       "<Figure size 720x432 with 1 Axes>"
      ]
     },
     "metadata": {
      "needs_background": "light"
     },
     "output_type": "display_data"
    }
   ],
   "source": [
    "plt.figure(figsize=(10, 6))\n",
    "sns.histplot(df[\"age\"], kde=True)\n",
    "print(f\"Skewness: {df['age'].skew()}\")\n",
    "print(f'Mean: {(df[\"age\"].mean()):.0f}')\n",
    "print(f'Median: {df[\"age\"].median()}')\n",
    "print(f'Minimum Age: {df[\"age\"].min()}')\n",
    "print(f'Maximum Age: {df[\"age\"].max()}')"
   ]
  },
  {
   "cell_type": "markdown",
   "id": "eeb21bd8-3c16-4f0d-bb2e-cddb3066e8e5",
   "metadata": {},
   "source": [
    "#### symetrical normal"
   ]
  },
  {
   "cell_type": "code",
   "execution_count": 34,
   "id": "138c2f8b-2688-47a1-90db-5a1aab70344b",
   "metadata": {},
   "outputs": [
    {
     "data": {
      "text/plain": [
       "Text(0, 0.5, 'Sample quantiles')"
      ]
     },
     "execution_count": 34,
     "metadata": {},
     "output_type": "execute_result"
    },
    {
     "data": {
      "text/plain": [
       "<Figure size 720x432 with 0 Axes>"
      ]
     },
     "metadata": {},
     "output_type": "display_data"
    },
    {
     "data": {
      "image/png": "[encoded data removed]",
      "text/plain": [
       "<Figure size 432x288 with 1 Axes>"
      ]
     },
     "metadata": {
      "needs_background": "light"
     },
     "output_type": "display_data"
    }
   ],
   "source": [
    "plt.figure(figsize=(10, 6))\n",
    "sm.qqplot(df[\"age\"], line='s')\n",
    "plt.title(\"Q-Q Plot for Age and Claim\")\n",
    "plt.xlabel(\"Theoretical quantiles\")\n",
    "plt.ylabel(\"Sample quantiles\")"
   ]
  },
  {
   "cell_type": "code",
   "execution_count": 35,
   "id": "544cf396-fad1-4510-aeda-47ec3f6cd2ee",
   "metadata": {},
   "outputs": [
    {
     "data": {
      "text/plain": [
       "Text(0, 0.5, 'Claim')"
      ]
     },
     "execution_count": 35,
     "metadata": {},
     "output_type": "execute_result"
    },
    {
     "data": {
      "image/png": "[encoded data removed]",
      "text/plain": [
       "<Figure size 720x432 with 1 Axes>"
      ]
     },
     "metadata": {
      "needs_background": "light"
     },
     "output_type": "display_data"
    }
   ],
   "source": [
    "plt.figure(figsize=(10, 6))\n",
    "sns.scatterplot(x='age', y='claim', data=df, hue='smoker')\n",
    "plt.title('Age vs Claim')\n",
    "plt.xlabel('Age')\n",
    "plt.ylabel('Claim')"
   ]
  },
  {
   "cell_type": "markdown",
   "id": "9fff44ac-4349-4de5-9cd2-7e213e9c6bcb",
   "metadata": {},
   "source": [
    "### Looking at the scatter plot, it can be determined that the age column has a positive correlation with the claims column, meaning that as the client's age increases, their claims also tend to increase. It is also evident that the claims for smokers are significantly higher than those for non-smokers."
   ]
  },
  {
   "cell_type": "code",
   "execution_count": 36,
   "id": "0c90cf64-9d03-4c55-9631-3a47599111c6",
   "metadata": {},
   "outputs": [
    {
     "name": "stdout",
     "output_type": "stream",
     "text": [
      "Mean above 50: 18076.85\n",
      "Mean below 50: 11421.33\n",
      "Median above 50: 12622.2\n",
      "Median below 50: 6600.2\n"
     ]
    },
    {
     "data": {
      "image/png": "[encoded data removed]",
      "text/plain": [
       "<Figure size 720x432 with 1 Axes>"
      ]
     },
     "metadata": {
      "needs_background": "light"
     },
     "output_type": "display_data"
    }
   ],
   "source": [
    "plt.figure(figsize=(10, 6))\n",
    "df['Age Group'] = np.where(df['age'] < 50, '< 50', '>= 50')\n",
    "sns.boxplot(x='Age Group', y='claim', data=df)\n",
    "plt.title(\"Claim Amounts by Age Group\")\n",
    "plt.xlabel(\"Age Group\")\n",
    "plt.ylabel(\"Claim\")\n",
    "print(f\"Mean above 50: {df[df['Age Group'] == '>= 50']['claim'].mean():.2f}\")\n",
    "print(f\"Mean below 50: {df[df['Age Group'] == '< 50']['claim'].mean():.2f}\")\n",
    "print(f\"Median above 50: {df[df['Age Group'] == '>= 50']['claim'].median()}\")\n",
    "print(f\"Median below 50: {df[df['Age Group'] == '< 50']['claim'].median()}\")"
   ]
  },
  {
   "cell_type": "markdown",
   "id": "4b0c8945-aca8-4d2a-97dc-4decf06dc6a0",
   "metadata": {},
   "source": [
    "### Statistical testing"
   ]
  },
  {
   "cell_type": "code",
   "execution_count": 37,
   "id": "7899fb67-5204-4f29-a02f-ba4e03d61a7e",
   "metadata": {},
   "outputs": [
    {
     "name": "stdout",
     "output_type": "stream",
     "text": [
      "KstestResult(statistic=1.0, pvalue=0.0)\n",
      "KstestResult(statistic=1.0, pvalue=0.0)\n"
     ]
    }
   ],
   "source": [
    "print(kstest(df[df[\"age\"] >= 50][\"claim\"], \"norm\"))\n",
    "print(kstest(df[df[\"age\"] < 50][\"claim\"], \"norm\")) "
   ]
  },
  {
   "cell_type": "code",
   "execution_count": 38,
   "id": "4e2c4578-6be0-49ad-8fc6-90f15dc3c417",
   "metadata": {},
   "outputs": [
    {
     "name": "stdout",
     "output_type": "stream",
     "text": [
      "Statistics=0.047, p=0.828\n"
     ]
    }
   ],
   "source": [
    "stat, p = levene(df[df[\"age\"] >= 50][\"claim\"], df[df[\"age\"] < 50][\"claim\"], center=\"mean\")\n",
    "print(\"Statistics=%.3f, p=%.3f\" % (stat, p))  # equal variances"
   ]
  },
  {
   "cell_type": "code",
   "execution_count": 39,
   "id": "a659edb3-9477-4fb4-aaef-92d979dd972a",
   "metadata": {
    "tags": []
   },
   "outputs": [
    {
     "name": "stdout",
     "output_type": "stream",
     "text": [
      "Statistics=29.600, p=0.000\n",
      "There is a significant difference in claims between people above 50 and below 50\n",
      "The mean insurance claim amount of people above 50 is significantly higher than of people below 50.\n"
     ]
    }
   ],
   "source": [
    "statistics, pwt = ttest_ind(df[df[\"age\"] >= 50][\"claim\"], df[df[\"age\"] < 50][\"claim\"], equal_var=True)\n",
    "\n",
    "print(\"Statistics=%.3f, p=%.3f\" % (statistics, pwt))\n",
    "\n",
    "if pwt < alpha:\n",
    "    print(\"There is a significant difference in claims between people above 50 and below 50\")\n",
    "else:\n",
    "    print(\"There is no significant difference in claims people above 50 and below 50\")\n",
    "\n",
    "if statistics > 0:\n",
    "    print(\"The mean insurance claim amount of people above 50 is significantly higher than of people below 50.\")\n",
    "elif statistics < 0:\n",
    "    print(\"The mean insurance claim amount of people below is significantly higher than of people above 50.\")\n",
    "else:\n",
    "    print(\"There is no significant difference in the mean insurance claim amounts.\")"
   ]
  },
  {
   "cell_type": "markdown",
   "id": "76b8cfb9-4385-40a8-9c6f-d1aa5f075713",
   "metadata": {},
   "source": [
    "## Effect of BMI\n",
    "### To measure the effect of the BMI it was also split into 2 groups:\n",
    "### Unhealthy (Extreme < 18 and > 25)\n",
    "### Healthy (18 - 25)"
   ]
  },
  {
   "cell_type": "code",
   "execution_count": 40,
   "id": "32a7f14e-bf03-4107-bf54-ab11a18aba8e",
   "metadata": {},
   "outputs": [
    {
     "data": {
      "text/plain": [
       "0.21527203528968455"
      ]
     },
     "execution_count": 40,
     "metadata": {},
     "output_type": "execute_result"
    }
   ],
   "source": [
    "df[\"bmi\"].corr(df[\"claim\"])"
   ]
  },
  {
   "cell_type": "code",
   "execution_count": 41,
   "id": "6794a95b-2652-4a67-b613-3a65e07a8ffc",
   "metadata": {},
   "outputs": [
    {
     "name": "stdout",
     "output_type": "stream",
     "text": [
      "Skewness: 0.39921284536283785\n",
      "Mean: 30\n",
      "Median: 29.3\n",
      "Minimum BMI: 16.8\n",
      "Maximum BMI: 53.1\n"
     ]
    },
    {
     "data": {
      "image/png": "[encoded data removed]",
      "text/plain": [
       "<Figure size 720x432 with 1 Axes>"
      ]
     },
     "metadata": {
      "needs_background": "light"
     },
     "output_type": "display_data"
    }
   ],
   "source": [
    "plt.figure(figsize=(10, 6))\n",
    "sns.histplot(df[\"bmi\"], kde=True)\n",
    "print(f\"Skewness: {df['bmi'].skew()}\")\n",
    "print(f'Mean: {(df[\"bmi\"].mean()):.0f}')\n",
    "print(f'Median: {df[\"bmi\"].median()}')\n",
    "print(f'Minimum BMI: {df[\"bmi\"].min()}')\n",
    "print(f'Maximum BMI: {df[\"bmi\"].max()}')"
   ]
  },
  {
   "cell_type": "code",
   "execution_count": 42,
   "id": "bf286324-8d04-4e5a-841e-a37d8f8e0dd9",
   "metadata": {},
   "outputs": [
    {
     "data": {
      "text/plain": [
       "Text(0, 0.5, 'Sample quantiles')"
      ]
     },
     "execution_count": 42,
     "metadata": {},
     "output_type": "execute_result"
    },
    {
     "data": {
      "text/plain": [
       "<Figure size 720x432 with 0 Axes>"
      ]
     },
     "metadata": {},
     "output_type": "display_data"
    },
    {
     "data": {
      "image/png": "[encoded data removed]",
      "text/plain": [
       "<Figure size 432x288 with 1 Axes>"
      ]
     },
     "metadata": {
      "needs_background": "light"
     },
     "output_type": "display_data"
    }
   ],
   "source": [
    "plt.figure(figsize=(10, 6))\n",
    "sm.qqplot(df[\"bmi\"], line='s')\n",
    "plt.title(\"Q-Q Plot for BMI and Claim\")\n",
    "plt.xlabel(\"Theoretical quantiles\")\n",
    "plt.ylabel(\"Sample quantiles\")"
   ]
  },
  {
   "cell_type": "code",
   "execution_count": 43,
   "id": "639f4f12-0632-41d1-82c6-bb3745421b14",
   "metadata": {},
   "outputs": [
    {
     "data": {
      "text/plain": [
       "Text(0, 0.5, 'Claim')"
      ]
     },
     "execution_count": 43,
     "metadata": {},
     "output_type": "execute_result"
    },
    {
     "data": {
      "image/png": "[encoded data removed]",
      "text/plain": [
       "<Figure size 720x432 with 1 Axes>"
      ]
     },
     "metadata": {
      "needs_background": "light"
     },
     "output_type": "display_data"
    }
   ],
   "source": [
    "plt.figure(figsize=(10, 6))\n",
    "sns.scatterplot(x='bmi', y='claim', data=df, hue='smoker')\n",
    "plt.title('BMI vs Claim')\n",
    "plt.xlabel('BMI')\n",
    "plt.ylabel('Claim')"
   ]
  },
  {
   "cell_type": "code",
   "execution_count": 44,
   "id": "65ad6296-0f41-4df2-9928-c9b0b4ce2da9",
   "metadata": {},
   "outputs": [
    {
     "name": "stdout",
     "output_type": "stream",
     "text": [
      "Mean normal BMI: 10607.897178557041\n",
      "Mean extreme BMI: 14112.39641118633\n",
      "Median normal BMI: 8604.5\n",
      "Median extreme BMI: 9877.6\n"
     ]
    },
    {
     "data": {
      "image/png": "[encoded data removed]",
      "text/plain": [
       "<Figure size 720x432 with 1 Axes>"
      ]
     },
     "metadata": {
      "needs_background": "light"
     },
     "output_type": "display_data"
    }
   ],
   "source": [
    "df[\"Bmi Group\"] = np.where((df[\"bmi\"] <= 25) & (df[\"bmi\"] >= 18), \"normal\", \"extreme\")\n",
    "plt.figure(figsize=(10, 6))\n",
    "sns.boxplot(x=\"Bmi Group\", y=\"claim\", data=df)\n",
    "plt.title(\"Claim Amounts by Bmi Group\")\n",
    "plt.xlabel(\"Bmi Group\")\n",
    "plt.ylabel(\"Claim\")\n",
    "print(f\"Mean normal BMI: {df[(df['bmi'] <= 25) & (df['bmi'] >= 18)]['claim'].mean()}\")\n",
    "print(f\"Mean extreme BMI: {df[(df['bmi'] > 25) | (df['bmi'] < 18)]['claim'].mean()}\") \n",
    "print(f\"Median normal BMI: {df[(df['bmi'] <= 25) & (df['bmi'] >= 18)]['claim'].median()}\")\n",
    "print(f\"Median extreme BMI: {df[(df['bmi'] > 25) | (df['bmi'] < 18)]['claim'].median()}\")"
   ]
  },
  {
   "cell_type": "markdown",
   "id": "c52d0aa9-9278-429e-85a6-e5932937d88d",
   "metadata": {},
   "source": [
    "### Statistical Testing\n"
   ]
  },
  {
   "cell_type": "code",
   "execution_count": 45,
   "id": "bb3a996f-5400-48de-849b-b4fe6d1da08d",
   "metadata": {},
   "outputs": [
    {
     "name": "stdout",
     "output_type": "stream",
     "text": [
      "KstestResult(statistic=1.0, pvalue=0.0)\n",
      "KstestResult(statistic=1.0, pvalue=0.0)\n"
     ]
    }
   ],
   "source": [
    "print(kstest(df[(df[\"bmi\"] <= 25) & (df[\"bmi\"] >= 18)][\"claim\"], \"norm\"))\n",
    "print(kstest(df[(df[\"bmi\"] > 25) | (df[\"bmi\"] < 18)][\"claim\"], \"norm\"))"
   ]
  },
  {
   "cell_type": "code",
   "execution_count": 46,
   "id": "f6398087-15bd-47ed-95be-5ca9441f8083",
   "metadata": {},
   "outputs": [
    {
     "name": "stdout",
     "output_type": "stream",
     "text": [
      "Statistics=336.876, p=0.000\n"
     ]
    }
   ],
   "source": [
    "stat, p = levene(df[(df[\"bmi\"] <= 25) & (df[\"bmi\"] >= 18)][\"claim\"], df[(df[\"bmi\"] > 25) | (df[\"bmi\"] < 18)][\"claim\"], center=\"mean\")\n",
    "print(\"Statistics=%.3f, p=%.3f\" % (stat, p))"
   ]
  },
  {
   "cell_type": "code",
   "execution_count": 47,
   "id": "63d9f214-22a6-45fd-b150-db5e4dd7c3fe",
   "metadata": {},
   "outputs": [
    {
     "name": "stdout",
     "output_type": "stream",
     "text": [
      "Statistics=-16.566, p=0.000\n",
      "There is a significant difference in claims between people with normal vs extreme BMI\n",
      "The mean insurance claim of people with extreme BMI is significantly higher.\n"
     ]
    }
   ],
   "source": [
    "statistics, pwt = ttest_ind(df[(df[\"bmi\"] <= 25) & (df[\"bmi\"] >= 18)][\"claim\"], df[(df[\"bmi\"] > 25) | (df[\"bmi\"] < 18)][\"claim\"], equal_var=False)\n",
    "print(\"Statistics=%.3f, p=%.3f\" % (statistics, pwt))\n",
    "\n",
    "if pwt < alpha:\n",
    "    print(\"There is a significant difference in claims between people with normal vs extreme BMI\")\n",
    "else:\n",
    "    print(\"There is no significant difference in claims people with normal vs extreme BMI\")\n",
    "\n",
    "# direction of the difference\n",
    "if statistics > 0:\n",
    "    print(\"The mean insurance claim of people with normal BMI is significantly higher.\")\n",
    "elif statistics < 0:\n",
    "    print(\"The mean insurance claim of people with extreme BMI is significantly higher.\")\n",
    "else:\n",
    "    print(\"There is no significant difference in the mean insurance claim amounts.\")"
   ]
  },
  {
   "cell_type": "markdown",
   "id": "db732326-6373-400d-adc4-9d25385e7c82",
   "metadata": {},
   "source": [
    "## Effect of regular exercise vs no regular exercise\n",
    "### regular exercise = 1, no regular exercise = 0"
   ]
  },
  {
   "cell_type": "code",
   "execution_count": 48,
   "id": "3128095e-1037-441c-b63c-e2bfbc332f2a",
   "metadata": {},
   "outputs": [
    {
     "data": {
      "text/plain": [
       "-0.06721878347128205"
      ]
     },
     "execution_count": 48,
     "metadata": {},
     "output_type": "execute_result"
    }
   ],
   "source": [
    "df[\"regular_ex\"].corr(df[\"claim\"])"
   ]
  },
  {
   "cell_type": "code",
   "execution_count": 49,
   "id": "667f1ccd-1f6b-411b-ad7d-078bb130885b",
   "metadata": {},
   "outputs": [
    {
     "data": {
      "text/plain": [
       "1.3486256447940788"
      ]
     },
     "execution_count": 49,
     "metadata": {},
     "output_type": "execute_result"
    }
   ],
   "source": [
    "df[\"regular_ex\"].skew()"
   ]
  },
  {
   "cell_type": "code",
   "execution_count": 50,
   "id": "bb35f219-1b9e-4797-9723-f1e56dcc37f1",
   "metadata": {},
   "outputs": [
    {
     "data": {
      "text/plain": [
       "0    10101\n",
       "1     2857\n",
       "Name: regular_ex, dtype: int64"
      ]
     },
     "execution_count": 50,
     "metadata": {},
     "output_type": "execute_result"
    }
   ],
   "source": [
    "df[\"regular_ex\"].value_counts()"
   ]
  },
  {
   "cell_type": "code",
   "execution_count": 51,
   "id": "69ea73ec-d3b6-4926-83fd-026cbb59f71c",
   "metadata": {},
   "outputs": [
    {
     "data": {
      "text/plain": [
       "Text(0.5, 1.0, 'Regular exercise Percentage')"
      ]
     },
     "execution_count": 51,
     "metadata": {},
     "output_type": "execute_result"
    },
    {
     "data": {
      "image/png": "[encoded data removed]",
      "text/plain": [
       "<Figure size 720x432 with 1 Axes>"
      ]
     },
     "metadata": {},
     "output_type": "display_data"
    }
   ],
   "source": [
    "plt.figure(figsize=(10, 6))\n",
    "plt.pie(df.regular_ex.value_counts().reindex([1, 0]), labels=df.regular_ex.value_counts().reindex([1, 0]).index,\n",
    "        autopct='%1.1f%%', explode=[0.1, 0], startangle=180)\n",
    "plt.title('Regular exercise Percentage')"
   ]
  },
  {
   "cell_type": "code",
   "execution_count": 52,
   "id": "6b4511ac-5763-49ac-b9d0-ac7eec2c5fe5",
   "metadata": {},
   "outputs": [
    {
     "name": "stdout",
     "output_type": "stream",
     "text": [
      "Average Charges for regular exercise: $11904.67\n",
      "Average Charges for No regular exercise: $13876.06\n",
      "Median regular exercise: $10043.30\n",
      "Median no regular exercise: $9617.70\n"
     ]
    },
    {
     "data": {
      "image/png": "[encoded data removed]",
      "text/plain": [
       "<Figure size 720x432 with 1 Axes>"
      ]
     },
     "metadata": {
      "needs_background": "light"
     },
     "output_type": "display_data"
    }
   ],
   "source": [
    "plt.figure(figsize=(10, 6))\n",
    "sns.boxplot(x='regular_ex', y='claim', data=df)\n",
    "plt.title('Claim Amount by Exercise')\n",
    "plt.xlabel('Regular exercise')\n",
    "plt.ylabel('Claim')\n",
    "print(f\"Average Charges for regular exercise: ${(df[df.regular_ex == 1].claim.mean()):.2f}\")\n",
    "print(f\"Average Charges for No regular exercise: ${(df[df.regular_ex == 0].claim.mean()):.2f}\")\n",
    "print(f\"Median regular exercise: ${(df[df.regular_ex == 1].claim.median()):.2f}\")\n",
    "print(f\"Median no regular exercise: ${(df[df.regular_ex == 0].claim.median()):.2f}\")"
   ]
  },
  {
   "cell_type": "code",
   "execution_count": 53,
   "id": "e3dd3c48-8196-450b-9b53-4fc6ea217579",
   "metadata": {},
   "outputs": [
    {
     "data": {
      "text/plain": [
       "Text(0, 0.5, 'Count')"
      ]
     },
     "execution_count": 53,
     "metadata": {},
     "output_type": "execute_result"
    },
    {
     "data": {
      "image/png": "[encoded data removed]",
      "text/plain": [
       "<Figure size 720x432 with 1 Axes>"
      ]
     },
     "metadata": {
      "needs_background": "light"
     },
     "output_type": "display_data"
    }
   ],
   "source": [
    "plt.figure(figsize=(10, 6))\n",
    "fig = sns.countplot(x='regular_ex', data=df, hue='smoker')\n",
    "for p in fig.patches:\n",
    "    height = p.get_height()\n",
    "    fig.text(p.get_x() + p.get_width()/2., height + 3, '{:1.0f}'.format(height), ha=\"center\")\n",
    "plt.title('Exercise Count by Smoker')\n",
    "plt.xlabel('Exercise')\n",
    "plt.ylabel('Count')"
   ]
  },
  {
   "cell_type": "markdown",
   "id": "2cf8508b-cc14-4ed1-9c23-82b44c70c39d",
   "metadata": {},
   "source": [
    "### Statistical Testing"
   ]
  },
  {
   "cell_type": "code",
   "execution_count": 54,
   "id": "ec92343a-9320-43bd-8aa5-164f48a9c45e",
   "metadata": {},
   "outputs": [
    {
     "name": "stdout",
     "output_type": "stream",
     "text": [
      "KstestResult(statistic=1.0, pvalue=0.0)\n",
      "KstestResult(statistic=1.0, pvalue=0.0)\n"
     ]
    }
   ],
   "source": [
    "print(kstest(df[df[\"regular_ex\"] == 1][\"claim\"], \"norm\"))\n",
    "print(kstest(df[df[\"regular_ex\"] == 0][\"claim\"], \"norm\"))"
   ]
  },
  {
   "cell_type": "code",
   "execution_count": 55,
   "id": "51c106fe-35da-4850-8150-e9c30d2a1ef0",
   "metadata": {},
   "outputs": [
    {
     "name": "stdout",
     "output_type": "stream",
     "text": [
      "Statistics=320.047, p=0.000\n"
     ]
    }
   ],
   "source": [
    "stat, p = levene(df[df[\"regular_ex\"] == 1][\"claim\"], df[df[\"regular_ex\"] == 0][\"claim\"], center=\"mean\")\n",
    "print(\"Statistics=%.3f, p=%.3f\" % (stat, p))"
   ]
  },
  {
   "cell_type": "code",
   "execution_count": 56,
   "id": "312f73a2-eb26-4906-b8b1-1622071c4768",
   "metadata": {},
   "outputs": [
    {
     "name": "stdout",
     "output_type": "stream",
     "text": [
      "Statistics=-9.300, p=0.000\n",
      "There is a significant difference in claims between people who exercise regularly and dont exercise regularly.\n",
      "The mean insurance claim amount of people who dont exercise regularly is significantly higher than of people who exercise regularly\n"
     ]
    }
   ],
   "source": [
    "statistics, pwt = ttest_ind(df[df[\"regular_ex\"] == 1][\"claim\"], df[df[\"regular_ex\"] == 0][\"claim\"], equal_var=False)\n",
    "\n",
    "print(\"Statistics=%.3f, p=%.3f\" % (statistics, pwt))\n",
    "\n",
    "if pwt < alpha:\n",
    "    print(\"There is a significant difference in claims between people who exercise regularly and dont exercise regularly.\")\n",
    "else:\n",
    "    print(\"There is no difference in claims between people who exercise regularly and dont exercise regularly.\")\n",
    "\n",
    "if statistics > 0:\n",
    "    print(\"The mean insurance claim amount of people who exercise regularly is significantly higher than of people who dont exercise regularly\")\n",
    "elif statistics < 0:\n",
    "    print(\"The mean insurance claim amount of people who dont exercise regularly is significantly higher than of people who exercise regularly\")\n",
    "else:\n",
    "    print(\"There is no significant difference in the mean insurance claim amounts.\")"
   ]
  },
  {
   "cell_type": "markdown",
   "id": "ca2cbfcc-3a37-440a-ba3e-68f615546201",
   "metadata": {},
   "source": [
    "## Effect of Hereditary Diseases"
   ]
  },
  {
   "cell_type": "code",
   "execution_count": 57,
   "id": "4010ae96-1520-4d73-83f9-557752c78547",
   "metadata": {},
   "outputs": [
    {
     "data": {
      "text/plain": [
       "NoDisease       12108\n",
       "Alzheimer         134\n",
       "Diabetes          127\n",
       "EyeDisease        107\n",
       "Obesity           101\n",
       "HeartDisease       93\n",
       "Cancer             90\n",
       "Arthritis          69\n",
       "High BP            69\n",
       "Epilepsy           60\n",
       "Name: hereditary_diseases, dtype: int64"
      ]
     },
     "execution_count": 57,
     "metadata": {},
     "output_type": "execute_result"
    }
   ],
   "source": [
    "df[\"hereditary_diseases\"].value_counts()"
   ]
  },
  {
   "cell_type": "code",
   "execution_count": 58,
   "id": "6ec21978-6c69-4dc6-9a21-35c4503c2c6d",
   "metadata": {},
   "outputs": [
    {
     "name": "stdout",
     "output_type": "stream",
     "text": [
      "Average claim of different diseases\n",
      "NoDisease: 11605.197538817294\n",
      "Epilepsy: 38189.99333333332\n",
      "Alzheimer: 37671.60820895525\n",
      "Arthritis: 33627.57101449277\n",
      "EyeDisease: 41354.81308411214\n",
      "HeartDisease: 43084.513978494586\n",
      "Diabetes: 40032.90236220473\n",
      "Cancer: 40637.522222222215\n",
      "High BP: 40670.04637681161\n",
      "Obesity: 39789.37821782176\n"
     ]
    }
   ],
   "source": [
    "disease = df[\"hereditary_diseases\"].unique()\n",
    "print(\"Average claim of different diseases\")\n",
    "for i in disease:\n",
    "    print(f\"{i}: {df[df['hereditary_diseases'] == i]['claim'].mean()}\")"
   ]
  },
  {
   "cell_type": "markdown",
   "id": "9ef468a3-799d-42d1-8881-7bd959ecf3d1",
   "metadata": {},
   "source": [
    "### Barplot to visualize the mean claim"
   ]
  },
  {
   "cell_type": "code",
   "execution_count": 59,
   "id": "e5afec49-3fc5-442d-8ec7-58f8978f4b0f",
   "metadata": {},
   "outputs": [
    {
     "data": {
      "text/plain": [
       "(array([0, 1, 2, 3, 4, 5, 6, 7, 8, 9]),\n",
       " [Text(0, 0, 'Alzheimer'),\n",
       "  Text(1, 0, 'Arthritis'),\n",
       "  Text(2, 0, 'Cancer'),\n",
       "  Text(3, 0, 'Diabetes'),\n",
       "  Text(4, 0, 'Epilepsy'),\n",
       "  Text(5, 0, 'EyeDisease'),\n",
       "  Text(6, 0, 'HeartDisease'),\n",
       "  Text(7, 0, 'High BP'),\n",
       "  Text(8, 0, 'NoDisease'),\n",
       "  Text(9, 0, 'Obesity')])"
      ]
     },
     "execution_count": 59,
     "metadata": {},
     "output_type": "execute_result"
    },
    {
     "data": {
      "image/png": "[encoded data removed]",
      "text/plain": [
       "<Figure size 720x432 with 1 Axes>"
      ]
     },
     "metadata": {
      "needs_background": "light"
     },
     "output_type": "display_data"
    }
   ],
   "source": [
    "hereditary_claim_avg = df.groupby(\"hereditary_diseases\")[\"claim\"].mean()\n",
    "plt.figure(figsize=(10, 6))\n",
    "hereditary_claim_avg.plot(kind=\"bar\", stacked=True)\n",
    "plt.xlabel(\"Hereditary Diseases\")\n",
    "plt.ylabel(\"Average Claim\")\n",
    "plt.title(\"Hereditary Diseases vs Claim\")\n",
    "plt.xticks(rotation=90)"
   ]
  },
  {
   "cell_type": "markdown",
   "id": "56a142c8-0117-421f-8bad-b39ca5da365c",
   "metadata": {},
   "source": [
    "### Barplot to visualize total claim"
   ]
  },
  {
   "cell_type": "code",
   "execution_count": 60,
   "id": "6a404b2f-5d01-4f60-8023-53eb87481f20",
   "metadata": {},
   "outputs": [
    {
     "data": {
      "text/plain": [
       "(array([0, 1, 2, 3, 4, 5, 6, 7, 8, 9]),\n",
       " [Text(0, 0, 'Alzheimer'),\n",
       "  Text(1, 0, 'Arthritis'),\n",
       "  Text(2, 0, 'Cancer'),\n",
       "  Text(3, 0, 'Diabetes'),\n",
       "  Text(4, 0, 'Epilepsy'),\n",
       "  Text(5, 0, 'EyeDisease'),\n",
       "  Text(6, 0, 'HeartDisease'),\n",
       "  Text(7, 0, 'High BP'),\n",
       "  Text(8, 0, 'NoDisease'),\n",
       "  Text(9, 0, 'Obesity')])"
      ]
     },
     "execution_count": 60,
     "metadata": {},
     "output_type": "execute_result"
    },
    {
     "data": {
      "image/png": "[encoded data removed]",
      "text/plain": [
       "<Figure size 720x432 with 1 Axes>"
      ]
     },
     "metadata": {
      "needs_background": "light"
     },
     "output_type": "display_data"
    }
   ],
   "source": [
    "plt.figure(figsize=(10, 6))\n",
    "hereditary_claim_total = df.groupby('hereditary_diseases')['claim'].sum()\n",
    "hereditary_claim_total.plot(kind=\"bar\", stacked=True)\n",
    "plt.xlabel(\"Hereditary Diseases\")\n",
    "plt.ylabel(\"Total Claim\")\n",
    "plt.title(\"Hereditary Diseases vs Claim\")\n",
    "plt.xticks(rotation=90)"
   ]
  },
  {
   "cell_type": "markdown",
   "id": "d06ff219-33f4-4748-8d26-4ac58392b0a7",
   "metadata": {},
   "source": [
    "### Although the average claim with no disease is lowest the proportion of total claims is highest. Reason is the by far bigger number of people without diseases"
   ]
  },
  {
   "cell_type": "markdown",
   "id": "6e574a99-a05f-432d-9190-fada470d4dc5",
   "metadata": {},
   "source": [
    "### Boxplot"
   ]
  },
  {
   "cell_type": "code",
   "execution_count": 61,
   "id": "ca281ed9-3da8-4288-8ff6-e9d1f68bdb63",
   "metadata": {},
   "outputs": [
    {
     "data": {
      "text/plain": [
       "Text(0, 0.5, 'Claim')"
      ]
     },
     "execution_count": 61,
     "metadata": {},
     "output_type": "execute_result"
    },
    {
     "data": {
      "image/png": "[encoded data removed]",
      "text/plain": [
       "<Figure size 720x432 with 1 Axes>"
      ]
     },
     "metadata": {
      "needs_background": "light"
     },
     "output_type": "display_data"
    }
   ],
   "source": [
    "plt.figure(figsize=(10, 6))\n",
    "sns.boxplot(x=\"hereditary_diseases\", y=\"claim\", data=df)\n",
    "plt.title(\"Claim Amounts by Disease\")\n",
    "plt.xlabel(\"Hereditary Diseases\")\n",
    "plt.ylabel(\"Claim\")"
   ]
  },
  {
   "cell_type": "markdown",
   "id": "52ca51ad-9f95-4fe0-9753-37f82187ca0d",
   "metadata": {},
   "source": [
    "### Statistical testing"
   ]
  },
  {
   "cell_type": "code",
   "execution_count": 62,
   "id": "d2f3639e-9a12-47ac-a342-dbbf4f1745d6",
   "metadata": {},
   "outputs": [],
   "source": [
    "NoDisease = df[df[\"hereditary_diseases\"] == \"NoDisease\"][\"claim\"]\n",
    "Epilepsy = df[df[\"hereditary_diseases\"] == \"Epilepsy\"][\"claim\"]\n",
    "Alzheimer = df[df[\"hereditary_diseases\"] == \"Alzheimer\"][\"claim\"]\n",
    "Arthritis = df[df[\"hereditary_diseases\"] == \"Arthritis\"][\"claim\"]\n",
    "EyeDisease = df[df[\"hereditary_diseases\"] == \"EyeDisease\"][\"claim\"]\n",
    "HeartDisease = df[df[\"hereditary_diseases\"] == \"HeartDisease\"][\"claim\"]\n",
    "Diabetes = df[df[\"hereditary_diseases\"] == \"Diabetes\"][\"claim\"]\n",
    "Cancer = df[df[\"hereditary_diseases\"] == \"Cancer\"][\"claim\"]\n",
    "High_BP = df[df[\"hereditary_diseases\"] == \"High BP\"][\"claim\"]\n",
    "Obesity = df[df[\"hereditary_diseases\"] == \"Obesity\"][\"claim\"]"
   ]
  },
  {
   "cell_type": "code",
   "execution_count": 63,
   "id": "cd61a8fe-4192-4eff-bed6-cf783f092480",
   "metadata": {},
   "outputs": [
    {
     "name": "stdout",
     "output_type": "stream",
     "text": [
      "KstestResult(statistic=1.0, pvalue=0.0)\n",
      "KstestResult(statistic=1.0, pvalue=0.0)\n",
      "KstestResult(statistic=1.0, pvalue=0.0)\n",
      "KstestResult(statistic=1.0, pvalue=0.0)\n",
      "KstestResult(statistic=1.0, pvalue=0.0)\n",
      "KstestResult(statistic=1.0, pvalue=0.0)\n",
      "KstestResult(statistic=1.0, pvalue=0.0)\n",
      "KstestResult(statistic=1.0, pvalue=0.0)\n",
      "KstestResult(statistic=1.0, pvalue=0.0)\n",
      "KstestResult(statistic=1.0, pvalue=0.0)\n"
     ]
    }
   ],
   "source": [
    "print(kstest(NoDisease, \"norm\"))\n",
    "print(kstest(Epilepsy, \"norm\"))\n",
    "print(kstest(Alzheimer, \"norm\"))\n",
    "print(kstest(Arthritis, \"norm\"))\n",
    "print(kstest(EyeDisease, \"norm\"))\n",
    "print(kstest(HeartDisease, \"norm\"))\n",
    "print(kstest(Diabetes, \"norm\"))\n",
    "print(kstest(Cancer, \"norm\"))\n",
    "print(kstest(High_BP, \"norm\"))\n",
    "print(kstest(Obesity, \"norm\"))"
   ]
  },
  {
   "cell_type": "markdown",
   "id": "03464c07-fec9-4ec4-8d51-9e4367d60b1c",
   "metadata": {},
   "source": [
    "### Making new Dataframe with Diseases as one column and the corresponding claims in the second column"
   ]
  },
  {
   "cell_type": "code",
   "execution_count": 64,
   "id": "7d9b23b1-1641-411b-973a-3d83b0e575e3",
   "metadata": {},
   "outputs": [],
   "source": [
    "data = np.concatenate([NoDisease, Epilepsy, Alzheimer, Arthritis, EyeDisease, HeartDisease, Diabetes, Cancer, High_BP,\n",
    "                       Obesity])\n",
    "\n",
    "groups = np.concatenate([[\"NoDisease\"] * 12108, [\"Epilepsy\"] * 60, [\"Alzheimer\"] * 134, [\"Arthritis\"] * 69,\n",
    "                         [\"EyeDisease\"] * 107, [\"HeartDisease\"] * 93, [\"Diabetes\"] * 127, [\"Cancer\"] * 90, [\"High_BP\"]\n",
    "                         * 69, [\"Obesity\"] * 101])\n",
    "data = pd.DataFrame({\"Data\": data, \"Group\": groups})"
   ]
  },
  {
   "cell_type": "markdown",
   "id": "6b424b1f-45be-4f24-90bd-c099e49459ce",
   "metadata": {},
   "source": [
    "### Anova"
   ]
  },
  {
   "cell_type": "code",
   "execution_count": 65,
   "id": "ae532e66-5fd4-4262-9777-8f1254980cf9",
   "metadata": {},
   "outputs": [
    {
     "name": "stdout",
     "output_type": "stream",
     "text": [
      "               df        sum_sq       mean_sq           F  PR(>F)\n",
      "Group         9.0  6.270935e+11  6.967705e+10  700.180672     0.0\n",
      "Residual  12948.0  1.288494e+12  9.951296e+07         NaN     NaN\n"
     ]
    }
   ],
   "source": [
    "model = ols(\"Data ~ Group\", data=data).fit()\n",
    "anova_table = sm.stats.anova_lm(model)\n",
    "print(anova_table)"
   ]
  },
  {
   "cell_type": "markdown",
   "id": "b82e45dd-02bf-4e0d-b522-60da79a9f61b",
   "metadata": {},
   "source": [
    "### Post-Hoc Tukey HSD test to see where differences lie"
   ]
  },
  {
   "cell_type": "code",
   "execution_count": 66,
   "id": "e4714fec-82bd-448b-a489-78c02eb367f7",
   "metadata": {},
   "outputs": [
    {
     "name": "stdout",
     "output_type": "stream",
     "text": [
      "            Multiple Comparison of Means - Tukey HSD, FWER=0.05            \n",
      "===========================================================================\n",
      "   group1       group2      meandiff  p-adj     lower       upper    reject\n",
      "---------------------------------------------------------------------------\n",
      "   Alzheimer    Arthritis  -4044.0372 0.1594  -8721.1751    633.1007  False\n",
      "   Alzheimer       Cancer    2965.914 0.4696  -1335.9775   7267.8055  False\n",
      "   Alzheimer     Diabetes   2361.2942 0.6613  -1547.7907    6270.379  False\n",
      "   Alzheimer     Epilepsy    518.3851    1.0  -4384.8412   5421.6115  False\n",
      "   Alzheimer   EyeDisease   3683.2049 0.1208   -409.1504   7775.5602  False\n",
      "   Alzheimer HeartDisease   5412.9058 0.0024   1152.7237   9673.0878   True\n",
      "   Alzheimer      High_BP   2998.4382 0.5787  -1678.6997   7675.5761  False\n",
      "   Alzheimer    NoDisease -26066.4107    0.0 -28808.2796 -23324.5418   True\n",
      "   Alzheimer      Obesity     2117.77 0.8432  -2041.6229   6277.1629  False\n",
      "   Arthritis       Cancer   7009.9512 0.0005   1959.1315  12060.7709   True\n",
      "   Arthritis     Diabetes   6405.3313 0.0007   1684.5843  11126.0784   True\n",
      "   Arthritis     Epilepsy   4562.4223 0.2218  -1009.4837  10134.3284  False\n",
      "   Arthritis   EyeDisease   7727.2421    0.0    2853.652  12600.8322   True\n",
      "   Arthritis HeartDisease    9456.943    0.0   4441.6006  14472.2854   True\n",
      "   Arthritis      High_BP   7042.4754 0.0014    1668.452  12416.4988   True\n",
      "   Arthritis    NoDisease -22022.3735    0.0 -25833.1941 -18211.5529   True\n",
      "   Arthritis      Obesity   6161.8072 0.0031   1231.7912  11091.8232   True\n",
      "      Cancer     Diabetes   -604.6199    1.0  -4953.8847    3744.645  False\n",
      "      Cancer     Epilepsy  -2447.5289 0.9033  -7708.4023   2813.3445  False\n",
      "      Cancer   EyeDisease    717.2909    1.0  -3797.4109   5231.9927  False\n",
      "      Cancer HeartDisease   2446.9918 0.8185  -2220.3749   7114.3584  False\n",
      "      Cancer      High_BP     32.5242    1.0  -5018.2955   5083.3438  False\n",
      "      Cancer    NoDisease -29032.3247    0.0 -32371.9362 -25692.7131   True\n",
      "      Cancer      Obesity    -848.144 0.9999  -5423.6997   3727.4117  False\n",
      "    Diabetes     Epilepsy   -1842.909 0.9756   -6787.751    3101.933  False\n",
      "    Diabetes   EyeDisease   1321.9107 0.9918   -2820.215   5464.0365  False\n",
      "    Diabetes HeartDisease   3051.6116 0.4282  -1256.4024   7359.6256  False\n",
      "    Diabetes      High_BP     637.144    1.0   -4083.603   5357.8911  False\n",
      "    Diabetes    NoDisease -28427.7048    0.0 -31243.3182 -25612.0914   True\n",
      "    Diabetes      Obesity   -243.5241    1.0  -4451.8947   3964.8464  False\n",
      "    Epilepsy   EyeDisease   3164.8198 0.6224  -1926.1419   8255.7814  False\n",
      "    Epilepsy HeartDisease   4894.5206 0.0891   -332.3014  10121.3427  False\n",
      "    Epilepsy      High_BP    2480.053  0.925   -3091.853   8051.9591  False\n",
      "    Epilepsy    NoDisease -26584.7958    0.0 -30669.9351 -22499.6565   True\n",
      "    Epilepsy      Obesity   1599.3849 0.9932  -3545.6192    6744.389  False\n",
      "  EyeDisease HeartDisease   1729.7009 0.9689  -2745.2754   6204.6771  False\n",
      "  EyeDisease      High_BP   -684.7667    1.0  -5558.3568   4188.8234  False\n",
      "  EyeDisease    NoDisease -29749.6155    0.0 -32814.5962 -26684.6349   True\n",
      "  EyeDisease      Obesity  -1565.4349 0.9816  -5944.5684   2813.6987  False\n",
      "HeartDisease      High_BP  -2414.4676 0.8832    -7429.81   2600.8748  False\n",
      "HeartDisease    NoDisease -31479.3164    0.0 -34765.0257 -28193.6072   True\n",
      "HeartDisease      Obesity  -3295.1358 0.3899  -7831.4988   1241.2273  False\n",
      "     High_BP    NoDisease -29064.8488    0.0 -32875.6694 -25254.0283   True\n",
      "     High_BP      Obesity   -880.6682 0.9999  -5810.6842   4049.3478  False\n",
      "   NoDisease      Obesity  28184.1807    0.0  25030.2492  31338.1122   True\n",
      "---------------------------------------------------------------------------\n"
     ]
    }
   ],
   "source": [
    "tukey_result = MultiComparison(data[\"Data\"], data[\"Group\"]).tukeyhsd()\n",
    "print(tukey_result)"
   ]
  },
  {
   "cell_type": "markdown",
   "id": "dd470f2e-f1ea-413a-a66c-ac0e8e6334ad",
   "metadata": {
    "tags": []
   },
   "source": [
    "## Effect of Jobs on claim"
   ]
  },
  {
   "cell_type": "code",
   "execution_count": 67,
   "id": "aa32f16d-ba01-419d-8831-578eee90a074",
   "metadata": {},
   "outputs": [
    {
     "data": {
      "text/plain": [
       "Student              1115\n",
       "HomeMakers            899\n",
       "FilmMaker             654\n",
       "Singer                637\n",
       "HouseKeeper           611\n",
       "Dancer                606\n",
       "Actor                 593\n",
       "Manager               567\n",
       "Accountant            333\n",
       "Politician            326\n",
       "Photographer          320\n",
       "Police                318\n",
       "FashionDesigner       312\n",
       "Beautician            301\n",
       "ITProfessional        301\n",
       "DataScientist         298\n",
       "Engineer              296\n",
       "Architect             295\n",
       "Clerks                291\n",
       "CEO                   283\n",
       "Doctor                274\n",
       "FilmDirector          273\n",
       "Blogger               267\n",
       "Lawyer                261\n",
       "DefencePersonnels     251\n",
       "CA                    250\n",
       "Chef                  247\n",
       "Journalist            246\n",
       "Analyst               241\n",
       "Academician           232\n",
       "GovEmployee           226\n",
       "Technician            211\n",
       "Buisnessman           211\n",
       "Farmer                210\n",
       "Labourer              202\n",
       "Name: job_title, dtype: int64"
      ]
     },
     "execution_count": 67,
     "metadata": {},
     "output_type": "execute_result"
    }
   ],
   "source": [
    "df[\"job_title\"].value_counts()"
   ]
  },
  {
   "cell_type": "code",
   "execution_count": 68,
   "id": "5a492d0a-bd30-403e-9edf-e120606095de",
   "metadata": {},
   "outputs": [
    {
     "name": "stdout",
     "output_type": "stream",
     "text": [
      "Average claim of different jobs\n",
      "Actor: 13706.835750421595\n",
      "Engineer: 14706.232094594618\n",
      "Academician: 15236.729310344821\n",
      "Chef: 9825.142105263158\n",
      "HomeMakers: 13069.078531701865\n",
      "Dancer: 15075.450165016491\n",
      "Singer: 13059.784929356345\n",
      "DataScientist: 14468.992617449645\n",
      "Doctor: 12485.696715328468\n",
      "Student: 11445.191210762332\n",
      "Manager: 16063.138095238073\n",
      "Photographer: 14946.005937499993\n",
      "Beautician: 12531.510963455126\n",
      "CA: 14027.700400000027\n",
      "Blogger: 8497.218726591767\n",
      "CEO: 16416.609540636036\n",
      "Labourer: 7620.457920792076\n",
      "Accountant: 15820.817117117107\n",
      "FilmDirector: 11347.33223443224\n",
      "Technician: 9608.175829383877\n",
      "FashionDesigner: 12668.232692307709\n",
      "Police: 13729.326729559758\n",
      "Architect: 15711.697627118634\n",
      "HouseKeeper: 14296.80474631752\n",
      "FilmMaker: 15747.787461773692\n",
      "Buisnessman: 13471.40616113745\n",
      "DefencePersonnels: 9362.48247011953\n",
      "Analyst: 8501.58921161824\n",
      "Clerks: 17673.291065292095\n",
      "Politician: 14472.210736196337\n",
      "ITProfessional: 15820.310631229215\n",
      "Farmer: 7891.138571428562\n",
      "Journalist: 16289.826016260144\n",
      "Lawyer: 16167.643295019172\n",
      "GovEmployee: 10087.309292035388\n"
     ]
    }
   ],
   "source": [
    "jobs = df[\"job_title\"].unique()\n",
    "avg_job_claim = []\n",
    "print(\"Average claim of different jobs\")\n",
    "for i in jobs:\n",
    "    print(f\"{i}: {df[df['job_title'] == i]['claim'].mean()}\")"
   ]
  },
  {
   "cell_type": "code",
   "execution_count": 69,
   "id": "ae2942ee-ff36-4024-9cb9-71673d011742",
   "metadata": {},
   "outputs": [
    {
     "data": {
      "text/plain": [
       "(array([ 0,  1,  2,  3,  4,  5,  6,  7,  8,  9, 10, 11, 12, 13, 14, 15, 16,\n",
       "        17, 18, 19, 20, 21, 22, 23, 24, 25, 26, 27, 28, 29, 30, 31, 32, 33,\n",
       "        34]),\n",
       " [Text(0, 0, 'Academician'),\n",
       "  Text(1, 0, 'Accountant'),\n",
       "  Text(2, 0, 'Actor'),\n",
       "  Text(3, 0, 'Analyst'),\n",
       "  Text(4, 0, 'Architect'),\n",
       "  Text(5, 0, 'Beautician'),\n",
       "  Text(6, 0, 'Blogger'),\n",
       "  Text(7, 0, 'Buisnessman'),\n",
       "  Text(8, 0, 'CA'),\n",
       "  Text(9, 0, 'CEO'),\n",
       "  Text(10, 0, 'Chef'),\n",
       "  Text(11, 0, 'Clerks'),\n",
       "  Text(12, 0, 'Dancer'),\n",
       "  Text(13, 0, 'DataScientist'),\n",
       "  Text(14, 0, 'DefencePersonnels'),\n",
       "  Text(15, 0, 'Doctor'),\n",
       "  Text(16, 0, 'Engineer'),\n",
       "  Text(17, 0, 'Farmer'),\n",
       "  Text(18, 0, 'FashionDesigner'),\n",
       "  Text(19, 0, 'FilmDirector'),\n",
       "  Text(20, 0, 'FilmMaker'),\n",
       "  Text(21, 0, 'GovEmployee'),\n",
       "  Text(22, 0, 'HomeMakers'),\n",
       "  Text(23, 0, 'HouseKeeper'),\n",
       "  Text(24, 0, 'ITProfessional'),\n",
       "  Text(25, 0, 'Journalist'),\n",
       "  Text(26, 0, 'Labourer'),\n",
       "  Text(27, 0, 'Lawyer'),\n",
       "  Text(28, 0, 'Manager'),\n",
       "  Text(29, 0, 'Photographer'),\n",
       "  Text(30, 0, 'Police'),\n",
       "  Text(31, 0, 'Politician'),\n",
       "  Text(32, 0, 'Singer'),\n",
       "  Text(33, 0, 'Student'),\n",
       "  Text(34, 0, 'Technician')])"
      ]
     },
     "execution_count": 69,
     "metadata": {},
     "output_type": "execute_result"
    },
    {
     "data": {
      "image/png": "[encoded data removed]",
      "text/plain": [
       "<Figure size 720x432 with 1 Axes>"
      ]
     },
     "metadata": {
      "needs_background": "light"
     },
     "output_type": "display_data"
    }
   ],
   "source": [
    "job_claim_avg = df.groupby('job_title')['claim'].mean()\n",
    "plt.figure(figsize=(10, 6))\n",
    "job_claim_avg.plot(kind=\"bar\", stacked=True)\n",
    "plt.xlabel(\"Jobs\")\n",
    "plt.ylabel(\"Average Claim\")\n",
    "plt.title(\"Job vs Claim\")\n",
    "plt.xticks(rotation=90)"
   ]
  },
  {
   "cell_type": "markdown",
   "id": "7df97bdf-eab7-4ad7-b45d-8c4a82a7a0fb",
   "metadata": {},
   "source": [
    "# Data modelling\n",
    "### Four models were trained and compared (Linear Regression, Polynomial Regression, Random Forest Regressor, Gradient Boosting Regressor)"
   ]
  },
  {
   "cell_type": "markdown",
   "id": "2a2bb896-eac6-4a9b-9b5c-5b8cdd44aa20",
   "metadata": {},
   "source": [
    "#### Preprocessing the data to change categorical values to numbers, as machine learning cant use string attributes"
   ]
  },
  {
   "cell_type": "code",
   "execution_count": 70,
   "id": "382f8039-6336-429d-abd8-7382462661c8",
   "metadata": {},
   "outputs": [],
   "source": [
    "model_df = orig_df.copy()"
   ]
  },
  {
   "cell_type": "code",
   "execution_count": 71,
   "id": "6495b690-72a7-48e7-b383-45ec6d6a5c4a",
   "metadata": {},
   "outputs": [],
   "source": [
    "for X in [\"hereditary_diseases\", \"job_title\", \"city\", \"sex\"]:\n",
    "    exec(f\"le_{X} = preprocessing.LabelEncoder()\")\n",
    "\n",
    "    exec(f\"model_df.{X} = le_{X}.fit_transform(model_df.{X})\")"
   ]
  },
  {
   "cell_type": "code",
   "execution_count": 72,
   "id": "9078326b-133f-4329-9be0-26aa4cb5ec88",
   "metadata": {},
   "outputs": [
    {
     "data": {
      "text/html": [
       "<div>\n",
       "<style scoped>\n",
       "    .dataframe tbody tr th:only-of-type {\n",
       "        vertical-align: middle;\n",
       "    }\n",
       "\n",
       "    .dataframe tbody tr th {\n",
       "        vertical-align: top;\n",
       "    }\n",
       "\n",
       "    .dataframe thead th {\n",
       "        text-align: right;\n",
       "    }\n",
       "</style>\n",
       "<table border=\"1\" class=\"dataframe\">\n",
       "  <thead>\n",
       "    <tr style=\"text-align: right;\">\n",
       "      <th></th>\n",
       "      <th>age</th>\n",
       "      <th>sex</th>\n",
       "      <th>weight</th>\n",
       "      <th>bmi</th>\n",
       "      <th>hereditary_diseases</th>\n",
       "      <th>no_of_dependents</th>\n",
       "      <th>smoker</th>\n",
       "      <th>city</th>\n",
       "      <th>bloodpressure</th>\n",
       "      <th>diabetes</th>\n",
       "      <th>regular_ex</th>\n",
       "      <th>job_title</th>\n",
       "      <th>claim</th>\n",
       "    </tr>\n",
       "  </thead>\n",
       "  <tbody>\n",
       "    <tr>\n",
       "      <th>0</th>\n",
       "      <td>60.0</td>\n",
       "      <td>1</td>\n",
       "      <td>64</td>\n",
       "      <td>24.3</td>\n",
       "      <td>8</td>\n",
       "      <td>1</td>\n",
       "      <td>0</td>\n",
       "      <td>55</td>\n",
       "      <td>72</td>\n",
       "      <td>0</td>\n",
       "      <td>0</td>\n",
       "      <td>2</td>\n",
       "      <td>13112.6</td>\n",
       "    </tr>\n",
       "    <tr>\n",
       "      <th>1</th>\n",
       "      <td>49.0</td>\n",
       "      <td>0</td>\n",
       "      <td>75</td>\n",
       "      <td>22.6</td>\n",
       "      <td>8</td>\n",
       "      <td>1</td>\n",
       "      <td>0</td>\n",
       "      <td>5</td>\n",
       "      <td>78</td>\n",
       "      <td>1</td>\n",
       "      <td>1</td>\n",
       "      <td>16</td>\n",
       "      <td>9567.0</td>\n",
       "    </tr>\n",
       "    <tr>\n",
       "      <th>2</th>\n",
       "      <td>32.0</td>\n",
       "      <td>0</td>\n",
       "      <td>64</td>\n",
       "      <td>17.8</td>\n",
       "      <td>4</td>\n",
       "      <td>2</td>\n",
       "      <td>1</td>\n",
       "      <td>63</td>\n",
       "      <td>88</td>\n",
       "      <td>1</td>\n",
       "      <td>1</td>\n",
       "      <td>0</td>\n",
       "      <td>32734.2</td>\n",
       "    </tr>\n",
       "    <tr>\n",
       "      <th>3</th>\n",
       "      <td>61.0</td>\n",
       "      <td>0</td>\n",
       "      <td>53</td>\n",
       "      <td>36.4</td>\n",
       "      <td>8</td>\n",
       "      <td>1</td>\n",
       "      <td>1</td>\n",
       "      <td>64</td>\n",
       "      <td>72</td>\n",
       "      <td>1</td>\n",
       "      <td>0</td>\n",
       "      <td>10</td>\n",
       "      <td>48517.6</td>\n",
       "    </tr>\n",
       "    <tr>\n",
       "      <th>4</th>\n",
       "      <td>19.0</td>\n",
       "      <td>0</td>\n",
       "      <td>50</td>\n",
       "      <td>20.6</td>\n",
       "      <td>8</td>\n",
       "      <td>0</td>\n",
       "      <td>0</td>\n",
       "      <td>8</td>\n",
       "      <td>82</td>\n",
       "      <td>1</td>\n",
       "      <td>0</td>\n",
       "      <td>22</td>\n",
       "      <td>1731.7</td>\n",
       "    </tr>\n",
       "  </tbody>\n",
       "</table>\n",
       "</div>"
      ],
      "text/plain": [
       "    age  sex  weight   bmi  hereditary_diseases  no_of_dependents  smoker  \\\n",
       "0  60.0    1      64  24.3                    8                 1       0   \n",
       "1  49.0    0      75  22.6                    8                 1       0   \n",
       "2  32.0    0      64  17.8                    4                 2       1   \n",
       "3  61.0    0      53  36.4                    8                 1       1   \n",
       "4  19.0    0      50  20.6                    8                 0       0   \n",
       "\n",
       "   city  bloodpressure  diabetes  regular_ex  job_title    claim  \n",
       "0    55             72         0           0          2  13112.6  \n",
       "1     5             78         1           1         16   9567.0  \n",
       "2    63             88         1           1          0  32734.2  \n",
       "3    64             72         1           0         10  48517.6  \n",
       "4     8             82         1           0         22   1731.7  "
      ]
     },
     "execution_count": 72,
     "metadata": {},
     "output_type": "execute_result"
    }
   ],
   "source": [
    "model_df.head()"
   ]
  },
  {
   "cell_type": "code",
   "execution_count": 73,
   "id": "3f8e3b32-a2c5-40f3-bd43-92e39aeb81e0",
   "metadata": {},
   "outputs": [
    {
     "name": "stdout",
     "output_type": "stream",
     "text": [
      "<class 'pandas.core.frame.DataFrame'>\n",
      "RangeIndex: 15000 entries, 0 to 14999\n",
      "Data columns (total 13 columns):\n",
      " #   Column               Non-Null Count  Dtype  \n",
      "---  ------               --------------  -----  \n",
      " 0   age                  14604 non-null  float64\n",
      " 1   sex                  15000 non-null  int32  \n",
      " 2   weight               15000 non-null  int64  \n",
      " 3   bmi                  14044 non-null  float64\n",
      " 4   hereditary_diseases  15000 non-null  int32  \n",
      " 5   no_of_dependents     15000 non-null  int64  \n",
      " 6   smoker               15000 non-null  int64  \n",
      " 7   city                 15000 non-null  int32  \n",
      " 8   bloodpressure        15000 non-null  int64  \n",
      " 9   diabetes             15000 non-null  int64  \n",
      " 10  regular_ex           15000 non-null  int64  \n",
      " 11  job_title            15000 non-null  int32  \n",
      " 12  claim                15000 non-null  float64\n",
      "dtypes: float64(3), int32(4), int64(6)\n",
      "memory usage: 1.3 MB\n"
     ]
    }
   ],
   "source": [
    "model_df.info()"
   ]
  },
  {
   "cell_type": "code",
   "execution_count": 74,
   "id": "201feea6-fd42-4dd8-a13a-05f9734000b8",
   "metadata": {},
   "outputs": [],
   "source": [
    "model_df.dropna(axis=0, inplace=True)\n",
    "model_df.drop(df.loc[df[\"bloodpressure\"] == 0].index, inplace=True)"
   ]
  },
  {
   "cell_type": "code",
   "execution_count": 75,
   "id": "92340609-fcab-49e9-9914-481258fedc0c",
   "metadata": {},
   "outputs": [
    {
     "name": "stdout",
     "output_type": "stream",
     "text": [
      "<class 'pandas.core.frame.DataFrame'>\n",
      "Int64Index: 13648 entries, 0 to 14999\n",
      "Data columns (total 13 columns):\n",
      " #   Column               Non-Null Count  Dtype  \n",
      "---  ------               --------------  -----  \n",
      " 0   age                  13648 non-null  float64\n",
      " 1   sex                  13648 non-null  int32  \n",
      " 2   weight               13648 non-null  int64  \n",
      " 3   bmi                  13648 non-null  float64\n",
      " 4   hereditary_diseases  13648 non-null  int32  \n",
      " 5   no_of_dependents     13648 non-null  int64  \n",
      " 6   smoker               13648 non-null  int64  \n",
      " 7   city                 13648 non-null  int32  \n",
      " 8   bloodpressure        13648 non-null  int64  \n",
      " 9   diabetes             13648 non-null  int64  \n",
      " 10  regular_ex           13648 non-null  int64  \n",
      " 11  job_title            13648 non-null  int32  \n",
      " 12  claim                13648 non-null  float64\n",
      "dtypes: float64(3), int32(4), int64(6)\n",
      "memory usage: 1.2 MB\n"
     ]
    }
   ],
   "source": [
    "model_df.info()"
   ]
  },
  {
   "cell_type": "markdown",
   "id": "39b8e477-5d8f-4b89-9a0b-1db62a0db6b2",
   "metadata": {},
   "source": [
    "### Feature selection using SelectKBest and f_regression (8 best were selected)"
   ]
  },
  {
   "cell_type": "code",
   "execution_count": 76,
   "id": "3594e13e-1828-4329-a94e-ce067c6025f8",
   "metadata": {},
   "outputs": [
    {
     "name": "stdout",
     "output_type": "stream",
     "text": [
      "features:\n",
      "['age', 'sex', 'weight', 'bmi', 'hereditary_diseases', 'no_of_dependents', 'smoker', 'city', 'bloodpressure', 'diabetes', 'regular_ex', 'job_title']\n"
     ]
    }
   ],
   "source": [
    "features = list(model_df.columns[:12])\n",
    "print(\"features:\", features, sep=\"\\n\")"
   ]
  },
  {
   "cell_type": "code",
   "execution_count": 77,
   "id": "4d52c259-f23c-4a0b-8c50-cac3cb13d3f8",
   "metadata": {},
   "outputs": [],
   "source": [
    "y = model_df[\"claim\"]\n",
    "X = model_df[features]"
   ]
  },
  {
   "cell_type": "code",
   "execution_count": 78,
   "id": "d288ce69-acef-4b1b-a4a3-cadd17a4cb5d",
   "metadata": {},
   "outputs": [
    {
     "name": "stdout",
     "output_type": "stream",
     "text": [
      "['age', 'weight', 'bmi', 'hereditary_diseases', 'no_of_dependents', 'smoker', 'diabetes', 'regular_ex']\n"
     ]
    }
   ],
   "source": [
    "selector = SelectKBest(f_regression, k=8)\n",
    "selector.fit(X, y)\n",
    "\n",
    "X_new = selector.transform(X)\n",
    "print(model_df.columns[selector.get_support(indices=True)].tolist())\n",
    "final_features = model_df.columns[selector.get_support(indices=True)].tolist()"
   ]
  },
  {
   "cell_type": "markdown",
   "id": "7d11cfca-79d5-43c2-a8e0-09641de1f0fe",
   "metadata": {},
   "source": [
    "### Splitting data in training and testing set using 85 % of data for training"
   ]
  },
  {
   "cell_type": "code",
   "execution_count": 79,
   "id": "8a3a4237-a454-4a22-b881-0cceb326a05e",
   "metadata": {},
   "outputs": [],
   "source": [
    "y = model_df[\"claim\"]\n",
    "X = model_df[final_features]\n",
    "\n",
    "X_train, X_test, y_train, y_test = train_test_split(X, y, random_state=23, train_size=.85)"
   ]
  },
  {
   "cell_type": "markdown",
   "id": "f924038e-1e74-47ec-9d67-1c609416b917",
   "metadata": {},
   "source": [
    "#### Linear Regression"
   ]
  },
  {
   "cell_type": "code",
   "execution_count": 80,
   "id": "afbf0ff6-eff8-4def-931a-85175742ff43",
   "metadata": {},
   "outputs": [
    {
     "data": {
      "text/plain": [
       "LinearRegression()"
      ]
     },
     "execution_count": 80,
     "metadata": {},
     "output_type": "execute_result"
    }
   ],
   "source": [
    "LR = LinearRegression()\n",
    "LR.fit(X_train, y_train)"
   ]
  },
  {
   "cell_type": "markdown",
   "id": "a33ce236-1a2c-4526-a518-8bef5ded7eff",
   "metadata": {},
   "source": [
    "##### Evaluating Training Score using (.score and mean absolute error)"
   ]
  },
  {
   "cell_type": "code",
   "execution_count": 81,
   "id": "71a68d7e-c287-468a-aad5-75c445c8cfff",
   "metadata": {},
   "outputs": [
    {
     "name": "stdout",
     "output_type": "stream",
     "text": [
      "Training Score: 0.7422898981459986\n",
      "Training MAE: 4134.421571383333\n"
     ]
    }
   ],
   "source": [
    "print(f\"Training Score: {LR.score(X_train, y_train)}\")\n",
    "print(f\"Training MAE: {mean_absolute_error(y_train, LR.predict(X_train))}\")"
   ]
  },
  {
   "cell_type": "markdown",
   "id": "4bd0edc3-cb58-4bb9-9110-7d59d4aa8bd3",
   "metadata": {},
   "source": [
    "#### Score on Test data"
   ]
  },
  {
   "cell_type": "code",
   "execution_count": 82,
   "id": "e22dbb37-85b3-4204-ae13-53ffce1eb9be",
   "metadata": {},
   "outputs": [
    {
     "name": "stdout",
     "output_type": "stream",
     "text": [
      "Test Score: 0.7618462107547354\n",
      "Test MAE: 3939.2076629097373\n"
     ]
    }
   ],
   "source": [
    "print(f\"Test Score: {LR.score(X_test, y_test)}\")\n",
    "print(f\"Test MAE: {mean_absolute_error(y_test, LR.predict(X_test))}\")"
   ]
  },
  {
   "cell_type": "markdown",
   "id": "e005a18e-7b37-4a47-8162-9c6760f0b888",
   "metadata": {},
   "source": [
    "## Polynomial Regression\n",
    "### Creating Pipelines to perform scaling and dimensionality reduction"
   ]
  },
  {
   "cell_type": "code",
   "execution_count": 83,
   "id": "343b1ff7-b7fc-4674-88f2-321923859e0c",
   "metadata": {},
   "outputs": [],
   "source": [
    "num_pipe = Pipeline([(\"scaling\", StandardScaler())])\n",
    "\n",
    "cat_pipe = Pipeline([(\"encode\", OneHotEncoder(handle_unknown=\"ignore\"))])\n",
    "\n",
    "preprocess = ColumnTransformer([\n",
    "    (\"num\", num_pipe, X_train.select_dtypes(include=[\"float64\", \"int64\"]).columns),\n",
    "    (\"cat\", cat_pipe, X_train.select_dtypes(include=[\"object\"]).columns)\n",
    "])\n",
    "\n",
    "poly_lr_pipe = Pipeline([(\"preprocessing\", preprocess), (\"pca\", PCA(n_components=.95)), (\"poly\", PolynomialFeatures()),\n",
    "                         (\"model\", LinearRegression())])"
   ]
  },
  {
   "cell_type": "code",
   "execution_count": 84,
   "id": "b9e0d3be-3ad2-4db4-b045-ac59a0397c2e",
   "metadata": {},
   "outputs": [
    {
     "name": "stdout",
     "output_type": "stream",
     "text": [
      "{'poly__degree': 4}\n"
     ]
    }
   ],
   "source": [
    "poly_params = {\"poly__degree\": [3, 4, 5, 6]}\n",
    "\n",
    "poly = GridSearchCV(poly_lr_pipe, param_grid=poly_params, cv=2 ,n_jobs=1)\n",
    "\n",
    "poly.fit(X_train, y_train)\n",
    "\n",
    "print(poly.best_params_)"
   ]
  },
  {
   "cell_type": "markdown",
   "id": "bc8cafdc-40f5-4abf-affb-503bb4661b2c",
   "metadata": {},
   "source": [
    "#### best hyperparameter = 4"
   ]
  },
  {
   "cell_type": "markdown",
   "id": "dddb3bcd-2781-4b75-95e6-8692b6c18471",
   "metadata": {},
   "source": [
    "#### training set"
   ]
  },
  {
   "cell_type": "code",
   "execution_count": 85,
   "id": "4f111a11-d4d3-4951-8e8f-5a6bef75de80",
   "metadata": {},
   "outputs": [
    {
     "name": "stdout",
     "output_type": "stream",
     "text": [
      "Training Score: 0.8238759686115625\n",
      "Training MAE: 3206.1468663793103\n"
     ]
    }
   ],
   "source": [
    "print(f\"Training Score: {poly.score(X_train, y_train)}\")\n",
    "print(f\"Training MAE: {mean_absolute_error(y_train, poly.predict(X_train))}\")"
   ]
  },
  {
   "cell_type": "markdown",
   "id": "d5f01c34-9f15-4089-8f87-b05bda4db644",
   "metadata": {},
   "source": [
    "#### Testing set"
   ]
  },
  {
   "cell_type": "code",
   "execution_count": 86,
   "id": "4fcfe061-04db-4946-957b-4662145fa448",
   "metadata": {},
   "outputs": [
    {
     "name": "stdout",
     "output_type": "stream",
     "text": [
      "Testing Score: 0.8389304029925978\n",
      "Testing MAE: 2993.615258789063\n"
     ]
    }
   ],
   "source": [
    "print(f\"Testing Score: {poly.score(X_test, y_test)}\")\n",
    "print(f\"Testing MAE: {mean_absolute_error(y_test, poly.predict(X_test))}\")"
   ]
  },
  {
   "cell_type": "markdown",
   "id": "a2e806e4-b6d0-4785-9a48-e5a8cae3e2ce",
   "metadata": {},
   "source": [
    "## Random Forest Regressor"
   ]
  },
  {
   "cell_type": "code",
   "execution_count": 87,
   "id": "cc94ce02-eeaa-457c-8208-5faff9016e47",
   "metadata": {},
   "outputs": [
    {
     "data": {
      "text/plain": [
       "RandomForestRegressor()"
      ]
     },
     "execution_count": 87,
     "metadata": {},
     "output_type": "execute_result"
    }
   ],
   "source": [
    "RF = RandomForestRegressor()\n",
    "RF.fit(X_train, y_train)"
   ]
  },
  {
   "cell_type": "markdown",
   "id": "8ff3ac6a-fc10-4e04-b859-38f11b506c78",
   "metadata": {},
   "source": [
    "#### Training set"
   ]
  },
  {
   "cell_type": "code",
   "execution_count": 88,
   "id": "b731cb14-73fe-45d3-b777-5f55a2934d38",
   "metadata": {},
   "outputs": [
    {
     "name": "stdout",
     "output_type": "stream",
     "text": [
      "Training Score: 0.9960384944239864\n",
      "Training MAE: 139.31350132930945\n"
     ]
    }
   ],
   "source": [
    "print(f\"Training Score: {RF.score(X_train, y_train)}\")\n",
    "print(f\"Training MAE: {mean_absolute_error(y_train, RF.predict(X_train))}\")"
   ]
  },
  {
   "cell_type": "markdown",
   "id": "9afe592b-612a-4edb-a4c6-260ab55b41ea",
   "metadata": {},
   "source": [
    "#### Testing set"
   ]
  },
  {
   "cell_type": "code",
   "execution_count": 89,
   "id": "7a4a90a6-53a4-4cd3-a7a6-bd935827f033",
   "metadata": {},
   "outputs": [
    {
     "name": "stdout",
     "output_type": "stream",
     "text": [
      "Test Score: 0.9686207226396426\n",
      "Test MAE: 348.88827809497843\n"
     ]
    }
   ],
   "source": [
    "print(f\"Test Score: {RF.score(X_test, y_test)}\")\n",
    "print(f\"Test MAE: {mean_absolute_error(y_test, RF.predict(X_test))}\")"
   ]
  },
  {
   "cell_type": "markdown",
   "id": "62e1d864-2e04-42fc-a477-046c8b9a8c7f",
   "metadata": {},
   "source": [
    "#### Gradient Boosting Regressor"
   ]
  },
  {
   "cell_type": "code",
   "execution_count": 90,
   "id": "be4c9fd1-c32a-4116-89cd-b281fadad4cd",
   "metadata": {},
   "outputs": [
    {
     "data": {
      "text/plain": [
       "GradientBoostingRegressor()"
      ]
     },
     "execution_count": 90,
     "metadata": {},
     "output_type": "execute_result"
    }
   ],
   "source": [
    "GR = GradientBoostingRegressor()\n",
    "GR.fit(X_train, y_train)"
   ]
  },
  {
   "cell_type": "markdown",
   "id": "2fb605e1-b898-4e3a-bff7-f919da1b2ab4",
   "metadata": {},
   "source": [
    "#### Training set"
   ]
  },
  {
   "cell_type": "code",
   "execution_count": 91,
   "id": "131b8792-1f6f-40df-b721-52ac6457d502",
   "metadata": {},
   "outputs": [
    {
     "name": "stdout",
     "output_type": "stream",
     "text": [
      "Training Score: 0.8648971640087179\n",
      "Training MAE: 2668.109841194563\n"
     ]
    }
   ],
   "source": [
    "print(f\"Training Score: {GR.score(X_train, y_train)}\")\n",
    "print(f\"Training MAE: {mean_absolute_error(y_train, GR.predict(X_train))}\")"
   ]
  },
  {
   "cell_type": "markdown",
   "id": "31bfa0c1-2206-4eea-ba53-03973eb02144",
   "metadata": {},
   "source": [
    "#### Testing set"
   ]
  },
  {
   "cell_type": "code",
   "execution_count": 92,
   "id": "ed55d888-04c3-44b9-bcfc-6144598cb79e",
   "metadata": {},
   "outputs": [
    {
     "name": "stdout",
     "output_type": "stream",
     "text": [
      "Test Score: 0.8732801286829555\n",
      "Test MAE: 2536.5111245291764\n"
     ]
    }
   ],
   "source": [
    "print(f\"Test Score: {GR.score(X_test, y_test)}\")\n",
    "print(f\"Test MAE: {mean_absolute_error(y_test, GR.predict(X_test))}\")"
   ]
  },
  {
   "cell_type": "markdown",
   "id": "2f1688a6-0ce1-489a-9bd3-5f674c0946f1",
   "metadata": {},
   "source": [
    "### Comparing predicted values to actual claim"
   ]
  },
  {
   "cell_type": "code",
   "execution_count": 93,
   "id": "5a1861e4-04e7-4a0f-ac7f-61408f5b2c2b",
   "metadata": {},
   "outputs": [],
   "source": [
    "df_result = pd.DataFrame({\"Actual claim\": y_test,\n",
    "                          f\"LR {LR.score(X_test, y_test):.2f}\": LR.predict(X_test),\n",
    "                          f\"Poly {poly.score(X_test, y_test):.2f}\": poly.predict(X_test),\n",
    "                          f\"RF {RF.score(X_test, y_test):.2f}\": RF.predict(X_test),\n",
    "                          f\"GR {GR.score(X_test, y_test):.2f}\": GR.predict(X_test),\n",
    "                          })"
   ]
  },
  {
   "cell_type": "code",
   "execution_count": 94,
   "id": "0497187d-4697-4190-abd7-300e2d5a9310",
   "metadata": {},
   "outputs": [
    {
     "data": {
      "text/html": [
       "<div>\n",
       "<style scoped>\n",
       "    .dataframe tbody tr th:only-of-type {\n",
       "        vertical-align: middle;\n",
       "    }\n",
       "\n",
       "    .dataframe tbody tr th {\n",
       "        vertical-align: top;\n",
       "    }\n",
       "\n",
       "    .dataframe thead th {\n",
       "        text-align: right;\n",
       "    }\n",
       "</style>\n",
       "<table border=\"1\" class=\"dataframe\">\n",
       "  <thead>\n",
       "    <tr style=\"text-align: right;\">\n",
       "      <th></th>\n",
       "      <th>Actual claim</th>\n",
       "      <th>LR 0.76</th>\n",
       "      <th>Poly 0.84</th>\n",
       "      <th>RF 0.97</th>\n",
       "      <th>GR 0.87</th>\n",
       "    </tr>\n",
       "  </thead>\n",
       "  <tbody>\n",
       "    <tr>\n",
       "      <th>10360</th>\n",
       "      <td>3208.8</td>\n",
       "      <td>3341.888277</td>\n",
       "      <td>4861.0</td>\n",
       "      <td>3208.800</td>\n",
       "      <td>4727.382844</td>\n",
       "    </tr>\n",
       "    <tr>\n",
       "      <th>7339</th>\n",
       "      <td>7265.7</td>\n",
       "      <td>11137.795333</td>\n",
       "      <td>8808.5</td>\n",
       "      <td>7265.700</td>\n",
       "      <td>8366.711800</td>\n",
       "    </tr>\n",
       "    <tr>\n",
       "      <th>14798</th>\n",
       "      <td>18838.7</td>\n",
       "      <td>4032.015388</td>\n",
       "      <td>12221.0</td>\n",
       "      <td>18838.700</td>\n",
       "      <td>9653.087428</td>\n",
       "    </tr>\n",
       "    <tr>\n",
       "      <th>5714</th>\n",
       "      <td>13415.0</td>\n",
       "      <td>10876.212888</td>\n",
       "      <td>11565.0</td>\n",
       "      <td>13417.014</td>\n",
       "      <td>14375.676315</td>\n",
       "    </tr>\n",
       "    <tr>\n",
       "      <th>9924</th>\n",
       "      <td>8347.2</td>\n",
       "      <td>12082.042729</td>\n",
       "      <td>9477.0</td>\n",
       "      <td>8347.200</td>\n",
       "      <td>10257.708085</td>\n",
       "    </tr>\n",
       "    <tr>\n",
       "      <th>6503</th>\n",
       "      <td>6184.3</td>\n",
       "      <td>7885.143348</td>\n",
       "      <td>7548.5</td>\n",
       "      <td>6184.300</td>\n",
       "      <td>7339.730265</td>\n",
       "    </tr>\n",
       "    <tr>\n",
       "      <th>7377</th>\n",
       "      <td>11534.9</td>\n",
       "      <td>10864.144583</td>\n",
       "      <td>10661.0</td>\n",
       "      <td>11534.900</td>\n",
       "      <td>11178.170054</td>\n",
       "    </tr>\n",
       "    <tr>\n",
       "      <th>5331</th>\n",
       "      <td>13470.8</td>\n",
       "      <td>16829.884867</td>\n",
       "      <td>12795.0</td>\n",
       "      <td>13470.800</td>\n",
       "      <td>13526.162347</td>\n",
       "    </tr>\n",
       "    <tr>\n",
       "      <th>11225</th>\n",
       "      <td>1837.3</td>\n",
       "      <td>3095.570969</td>\n",
       "      <td>4089.0</td>\n",
       "      <td>1837.300</td>\n",
       "      <td>4452.812159</td>\n",
       "    </tr>\n",
       "    <tr>\n",
       "      <th>11218</th>\n",
       "      <td>20878.8</td>\n",
       "      <td>12012.626674</td>\n",
       "      <td>10101.5</td>\n",
       "      <td>20878.800</td>\n",
       "      <td>10839.987095</td>\n",
       "    </tr>\n",
       "    <tr>\n",
       "      <th>9761</th>\n",
       "      <td>30284.6</td>\n",
       "      <td>21964.044960</td>\n",
       "      <td>14561.0</td>\n",
       "      <td>30284.600</td>\n",
       "      <td>29341.794650</td>\n",
       "    </tr>\n",
       "    <tr>\n",
       "      <th>11262</th>\n",
       "      <td>44501.4</td>\n",
       "      <td>34917.555564</td>\n",
       "      <td>42285.0</td>\n",
       "      <td>44501.400</td>\n",
       "      <td>43166.490315</td>\n",
       "    </tr>\n",
       "    <tr>\n",
       "      <th>13232</th>\n",
       "      <td>14043.5</td>\n",
       "      <td>15449.755044</td>\n",
       "      <td>14959.0</td>\n",
       "      <td>14043.500</td>\n",
       "      <td>14347.077060</td>\n",
       "    </tr>\n",
       "    <tr>\n",
       "      <th>2561</th>\n",
       "      <td>2211.1</td>\n",
       "      <td>4447.041041</td>\n",
       "      <td>3945.0</td>\n",
       "      <td>2211.100</td>\n",
       "      <td>3619.452925</td>\n",
       "    </tr>\n",
       "    <tr>\n",
       "      <th>11580</th>\n",
       "      <td>8605.4</td>\n",
       "      <td>9177.016759</td>\n",
       "      <td>9601.5</td>\n",
       "      <td>8605.400</td>\n",
       "      <td>8817.393557</td>\n",
       "    </tr>\n",
       "  </tbody>\n",
       "</table>\n",
       "</div>"
      ],
      "text/plain": [
       "       Actual claim       LR 0.76  Poly 0.84    RF 0.97       GR 0.87\n",
       "10360        3208.8   3341.888277     4861.0   3208.800   4727.382844\n",
       "7339         7265.7  11137.795333     8808.5   7265.700   8366.711800\n",
       "14798       18838.7   4032.015388    12221.0  18838.700   9653.087428\n",
       "5714        13415.0  10876.212888    11565.0  13417.014  14375.676315\n",
       "9924         8347.2  12082.042729     9477.0   8347.200  10257.708085\n",
       "6503         6184.3   7885.143348     7548.5   6184.300   7339.730265\n",
       "7377        11534.9  10864.144583    10661.0  11534.900  11178.170054\n",
       "5331        13470.8  16829.884867    12795.0  13470.800  13526.162347\n",
       "11225        1837.3   3095.570969     4089.0   1837.300   4452.812159\n",
       "11218       20878.8  12012.626674    10101.5  20878.800  10839.987095\n",
       "9761        30284.6  21964.044960    14561.0  30284.600  29341.794650\n",
       "11262       44501.4  34917.555564    42285.0  44501.400  43166.490315\n",
       "13232       14043.5  15449.755044    14959.0  14043.500  14347.077060\n",
       "2561         2211.1   4447.041041     3945.0   2211.100   3619.452925\n",
       "11580        8605.4   9177.016759     9601.5   8605.400   8817.393557"
      ]
     },
     "execution_count": 94,
     "metadata": {},
     "output_type": "execute_result"
    }
   ],
   "source": [
    "df_result.head(15)"
   ]
  },
  {
   "cell_type": "markdown",
   "id": "6814441b-d8e8-440d-8f53-3524e8822002",
   "metadata": {},
   "source": [
    "# Conclusions"
   ]
  },
  {
   "cell_type": "markdown",
   "id": "b216b129-8756-4ed1-a5c8-17d2776c55d1",
   "metadata": {},
   "source": []
  }
 ],
 "metadata": {
  "kernelspec": {
   "display_name": "Python 3 (ipykernel)",
   "language": "python",
   "name": "python3"
  },
  "language_info": {
   "codemirror_mode": {
    "name": "ipython",
    "version": 3
   },
   "file_extension": ".py",
   "mimetype": "text/x-python",
   "name": "python",
   "nbconvert_exporter": "python",
   "pygments_lexer": "ipython3",
   "version": "3.9.12"
  }
 },
 "nbformat": 4,
 "nbformat_minor": 5
}
